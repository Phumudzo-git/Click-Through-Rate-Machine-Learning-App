{
 "cells": [
  {
   "cell_type": "code",
   "execution_count": 133,
   "id": "ccc46ec3",
   "metadata": {},
   "outputs": [],
   "source": [
    "import numpy as np\n",
    "import pandas as pd\n",
    "import matplotlib.pyplot as plt\n",
    "import seaborn as sns\n",
    "import warnings\n",
    "warnings.filterwarnings('ignore')\n",
    "from sklearn import preprocessing\n",
    "%matplotlib inline\n",
    "from collections import Counter\n",
    "from collections import defaultdict\n",
    "from sklearn import tree\n",
    "import pickle"
   ]
  },
  {
   "cell_type": "code",
   "execution_count": 134,
   "id": "e88ba253",
   "metadata": {},
   "outputs": [],
   "source": [
    "file = \"./train\"\n",
    "data = pd.read_csv(file)"
   ]
  },
  {
   "cell_type": "code",
   "execution_count": 135,
   "id": "a676fe9c",
   "metadata": {},
   "outputs": [
    {
     "data": {
      "text/html": [
       "<div>\n",
       "<style scoped>\n",
       "    .dataframe tbody tr th:only-of-type {\n",
       "        vertical-align: middle;\n",
       "    }\n",
       "\n",
       "    .dataframe tbody tr th {\n",
       "        vertical-align: top;\n",
       "    }\n",
       "\n",
       "    .dataframe thead th {\n",
       "        text-align: right;\n",
       "    }\n",
       "</style>\n",
       "<table border=\"1\" class=\"dataframe\">\n",
       "  <thead>\n",
       "    <tr style=\"text-align: right;\">\n",
       "      <th></th>\n",
       "      <th>id</th>\n",
       "      <th>unix_timestamp</th>\n",
       "      <th>ui_component_position</th>\n",
       "      <th>site_id</th>\n",
       "      <th>site_domain</th>\n",
       "      <th>site_category</th>\n",
       "      <th>app_id</th>\n",
       "      <th>app_domain</th>\n",
       "      <th>app_category</th>\n",
       "      <th>device_id</th>\n",
       "      <th>...</th>\n",
       "      <th>f0</th>\n",
       "      <th>f1</th>\n",
       "      <th>f2</th>\n",
       "      <th>f3</th>\n",
       "      <th>f4</th>\n",
       "      <th>f5</th>\n",
       "      <th>f6</th>\n",
       "      <th>f7</th>\n",
       "      <th>f8</th>\n",
       "      <th>click</th>\n",
       "    </tr>\n",
       "  </thead>\n",
       "  <tbody>\n",
       "    <tr>\n",
       "      <th>0</th>\n",
       "      <td>10000679056417042096</td>\n",
       "      <td>1413849600</td>\n",
       "      <td>1</td>\n",
       "      <td>fe8cc448</td>\n",
       "      <td>9166c161</td>\n",
       "      <td>0569f928</td>\n",
       "      <td>ecad2386</td>\n",
       "      <td>7801e8d9</td>\n",
       "      <td>07d7df22</td>\n",
       "      <td>a99f214a</td>\n",
       "      <td>...</td>\n",
       "      <td>1005</td>\n",
       "      <td>18993</td>\n",
       "      <td>320</td>\n",
       "      <td>50</td>\n",
       "      <td>2161</td>\n",
       "      <td>0</td>\n",
       "      <td>35</td>\n",
       "      <td>NaN</td>\n",
       "      <td>157</td>\n",
       "      <td>0</td>\n",
       "    </tr>\n",
       "    <tr>\n",
       "      <th>1</th>\n",
       "      <td>10010730108771379386</td>\n",
       "      <td>1413849600</td>\n",
       "      <td>1</td>\n",
       "      <td>e151e245</td>\n",
       "      <td>7e091613</td>\n",
       "      <td>f028772b</td>\n",
       "      <td>ecad2386</td>\n",
       "      <td>7801e8d9</td>\n",
       "      <td>07d7df22</td>\n",
       "      <td>a99f214a</td>\n",
       "      <td>...</td>\n",
       "      <td>1005</td>\n",
       "      <td>20634</td>\n",
       "      <td>320</td>\n",
       "      <td>50</td>\n",
       "      <td>2374</td>\n",
       "      <td>3</td>\n",
       "      <td>39</td>\n",
       "      <td>NaN</td>\n",
       "      <td>23</td>\n",
       "      <td>0</td>\n",
       "    </tr>\n",
       "    <tr>\n",
       "      <th>2</th>\n",
       "      <td>10017325201002992404</td>\n",
       "      <td>1413849600</td>\n",
       "      <td>0</td>\n",
       "      <td>1fbe01fe</td>\n",
       "      <td>f3845767</td>\n",
       "      <td>28905ebd</td>\n",
       "      <td>ecad2386</td>\n",
       "      <td>7801e8d9</td>\n",
       "      <td>07d7df22</td>\n",
       "      <td>a99f214a</td>\n",
       "      <td>...</td>\n",
       "      <td>1005</td>\n",
       "      <td>15705</td>\n",
       "      <td>320</td>\n",
       "      <td>50</td>\n",
       "      <td>1722</td>\n",
       "      <td>0</td>\n",
       "      <td>35</td>\n",
       "      <td>NaN</td>\n",
       "      <td>79</td>\n",
       "      <td>1</td>\n",
       "    </tr>\n",
       "    <tr>\n",
       "      <th>3</th>\n",
       "      <td>10018897422996679694</td>\n",
       "      <td>1413849600</td>\n",
       "      <td>1</td>\n",
       "      <td>e151e245</td>\n",
       "      <td>7e091613</td>\n",
       "      <td>f028772b</td>\n",
       "      <td>ecad2386</td>\n",
       "      <td>7801e8d9</td>\n",
       "      <td>07d7df22</td>\n",
       "      <td>a99f214a</td>\n",
       "      <td>...</td>\n",
       "      <td>1005</td>\n",
       "      <td>20366</td>\n",
       "      <td>320</td>\n",
       "      <td>50</td>\n",
       "      <td>2333</td>\n",
       "      <td>0</td>\n",
       "      <td>39</td>\n",
       "      <td>NaN</td>\n",
       "      <td>157</td>\n",
       "      <td>0</td>\n",
       "    </tr>\n",
       "    <tr>\n",
       "      <th>4</th>\n",
       "      <td>10024660782388112342</td>\n",
       "      <td>1413849600</td>\n",
       "      <td>1</td>\n",
       "      <td>d9750ee7</td>\n",
       "      <td>98572c79</td>\n",
       "      <td>f028772b</td>\n",
       "      <td>ecad2386</td>\n",
       "      <td>7801e8d9</td>\n",
       "      <td>07d7df22</td>\n",
       "      <td>a99f214a</td>\n",
       "      <td>...</td>\n",
       "      <td>1005</td>\n",
       "      <td>17614</td>\n",
       "      <td>320</td>\n",
       "      <td>50</td>\n",
       "      <td>1993</td>\n",
       "      <td>2</td>\n",
       "      <td>1063</td>\n",
       "      <td>100083.0</td>\n",
       "      <td>33</td>\n",
       "      <td>1</td>\n",
       "    </tr>\n",
       "    <tr>\n",
       "      <th>...</th>\n",
       "      <td>...</td>\n",
       "      <td>...</td>\n",
       "      <td>...</td>\n",
       "      <td>...</td>\n",
       "      <td>...</td>\n",
       "      <td>...</td>\n",
       "      <td>...</td>\n",
       "      <td>...</td>\n",
       "      <td>...</td>\n",
       "      <td>...</td>\n",
       "      <td>...</td>\n",
       "      <td>...</td>\n",
       "      <td>...</td>\n",
       "      <td>...</td>\n",
       "      <td>...</td>\n",
       "      <td>...</td>\n",
       "      <td>...</td>\n",
       "      <td>...</td>\n",
       "      <td>...</td>\n",
       "      <td>...</td>\n",
       "      <td>...</td>\n",
       "    </tr>\n",
       "    <tr>\n",
       "      <th>1999994</th>\n",
       "      <td>9985626755387297314</td>\n",
       "      <td>1414710000</td>\n",
       "      <td>1</td>\n",
       "      <td>e151e245</td>\n",
       "      <td>7e091613</td>\n",
       "      <td>f028772b</td>\n",
       "      <td>ecad2386</td>\n",
       "      <td>7801e8d9</td>\n",
       "      <td>07d7df22</td>\n",
       "      <td>a99f214a</td>\n",
       "      <td>...</td>\n",
       "      <td>1005</td>\n",
       "      <td>17037</td>\n",
       "      <td>320</td>\n",
       "      <td>50</td>\n",
       "      <td>1934</td>\n",
       "      <td>2</td>\n",
       "      <td>39</td>\n",
       "      <td>NaN</td>\n",
       "      <td>16</td>\n",
       "      <td>0</td>\n",
       "    </tr>\n",
       "    <tr>\n",
       "      <th>1999995</th>\n",
       "      <td>9987260269049664739</td>\n",
       "      <td>1414710000</td>\n",
       "      <td>0</td>\n",
       "      <td>85f751fd</td>\n",
       "      <td>c4e18dd6</td>\n",
       "      <td>50e219e0</td>\n",
       "      <td>e2fcccd2</td>\n",
       "      <td>5c5a694b</td>\n",
       "      <td>0f2161f8</td>\n",
       "      <td>c7a43d7c</td>\n",
       "      <td>...</td>\n",
       "      <td>1005</td>\n",
       "      <td>20632</td>\n",
       "      <td>320</td>\n",
       "      <td>50</td>\n",
       "      <td>2374</td>\n",
       "      <td>3</td>\n",
       "      <td>39</td>\n",
       "      <td>NaN</td>\n",
       "      <td>23</td>\n",
       "      <td>0</td>\n",
       "    </tr>\n",
       "    <tr>\n",
       "      <th>1999996</th>\n",
       "      <td>9989166246566057980</td>\n",
       "      <td>1414710000</td>\n",
       "      <td>0</td>\n",
       "      <td>1fbe01fe</td>\n",
       "      <td>f3845767</td>\n",
       "      <td>28905ebd</td>\n",
       "      <td>ecad2386</td>\n",
       "      <td>7801e8d9</td>\n",
       "      <td>07d7df22</td>\n",
       "      <td>a99f214a</td>\n",
       "      <td>...</td>\n",
       "      <td>1005</td>\n",
       "      <td>22676</td>\n",
       "      <td>320</td>\n",
       "      <td>50</td>\n",
       "      <td>2616</td>\n",
       "      <td>0</td>\n",
       "      <td>35</td>\n",
       "      <td>NaN</td>\n",
       "      <td>51</td>\n",
       "      <td>0</td>\n",
       "    </tr>\n",
       "    <tr>\n",
       "      <th>1999997</th>\n",
       "      <td>9995700942528439110</td>\n",
       "      <td>1414710000</td>\n",
       "      <td>0</td>\n",
       "      <td>85f751fd</td>\n",
       "      <td>c4e18dd6</td>\n",
       "      <td>50e219e0</td>\n",
       "      <td>9c13b419</td>\n",
       "      <td>2347f47a</td>\n",
       "      <td>f95efa07</td>\n",
       "      <td>a99f214a</td>\n",
       "      <td>...</td>\n",
       "      <td>1005</td>\n",
       "      <td>23725</td>\n",
       "      <td>320</td>\n",
       "      <td>50</td>\n",
       "      <td>2716</td>\n",
       "      <td>3</td>\n",
       "      <td>47</td>\n",
       "      <td>100217.0</td>\n",
       "      <td>23</td>\n",
       "      <td>0</td>\n",
       "    </tr>\n",
       "    <tr>\n",
       "      <th>1999998</th>\n",
       "      <td>9997782484512570704</td>\n",
       "      <td>1414710000</td>\n",
       "      <td>1</td>\n",
       "      <td>85f751fd</td>\n",
       "      <td>c4e18dd6</td>\n",
       "      <td>50e219e0</td>\n",
       "      <td>cf0327f9</td>\n",
       "      <td>2347f47a</td>\n",
       "      <td>0f2161f8</td>\n",
       "      <td>e5ad704a</td>\n",
       "      <td>...</td>\n",
       "      <td>1005</td>\n",
       "      <td>23644</td>\n",
       "      <td>300</td>\n",
       "      <td>50</td>\n",
       "      <td>2709</td>\n",
       "      <td>3</td>\n",
       "      <td>39</td>\n",
       "      <td>100013.0</td>\n",
       "      <td>23</td>\n",
       "      <td>0</td>\n",
       "    </tr>\n",
       "  </tbody>\n",
       "</table>\n",
       "<p>1999999 rows × 24 columns</p>\n",
       "</div>"
      ],
      "text/plain": [
       "                           id  unix_timestamp  ui_component_position  \\\n",
       "0        10000679056417042096      1413849600                      1   \n",
       "1        10010730108771379386      1413849600                      1   \n",
       "2        10017325201002992404      1413849600                      0   \n",
       "3        10018897422996679694      1413849600                      1   \n",
       "4        10024660782388112342      1413849600                      1   \n",
       "...                       ...             ...                    ...   \n",
       "1999994   9985626755387297314      1414710000                      1   \n",
       "1999995   9987260269049664739      1414710000                      0   \n",
       "1999996   9989166246566057980      1414710000                      0   \n",
       "1999997   9995700942528439110      1414710000                      0   \n",
       "1999998   9997782484512570704      1414710000                      1   \n",
       "\n",
       "          site_id site_domain site_category    app_id app_domain app_category  \\\n",
       "0        fe8cc448    9166c161      0569f928  ecad2386   7801e8d9     07d7df22   \n",
       "1        e151e245    7e091613      f028772b  ecad2386   7801e8d9     07d7df22   \n",
       "2        1fbe01fe    f3845767      28905ebd  ecad2386   7801e8d9     07d7df22   \n",
       "3        e151e245    7e091613      f028772b  ecad2386   7801e8d9     07d7df22   \n",
       "4        d9750ee7    98572c79      f028772b  ecad2386   7801e8d9     07d7df22   \n",
       "...           ...         ...           ...       ...        ...          ...   \n",
       "1999994  e151e245    7e091613      f028772b  ecad2386   7801e8d9     07d7df22   \n",
       "1999995  85f751fd    c4e18dd6      50e219e0  e2fcccd2   5c5a694b     0f2161f8   \n",
       "1999996  1fbe01fe    f3845767      28905ebd  ecad2386   7801e8d9     07d7df22   \n",
       "1999997  85f751fd    c4e18dd6      50e219e0  9c13b419   2347f47a     f95efa07   \n",
       "1999998  85f751fd    c4e18dd6      50e219e0  cf0327f9   2347f47a     0f2161f8   \n",
       "\n",
       "        device_id  ...    f0     f1   f2  f3    f4  f5    f6        f7   f8  \\\n",
       "0        a99f214a  ...  1005  18993  320  50  2161   0    35       NaN  157   \n",
       "1        a99f214a  ...  1005  20634  320  50  2374   3    39       NaN   23   \n",
       "2        a99f214a  ...  1005  15705  320  50  1722   0    35       NaN   79   \n",
       "3        a99f214a  ...  1005  20366  320  50  2333   0    39       NaN  157   \n",
       "4        a99f214a  ...  1005  17614  320  50  1993   2  1063  100083.0   33   \n",
       "...           ...  ...   ...    ...  ...  ..   ...  ..   ...       ...  ...   \n",
       "1999994  a99f214a  ...  1005  17037  320  50  1934   2    39       NaN   16   \n",
       "1999995  c7a43d7c  ...  1005  20632  320  50  2374   3    39       NaN   23   \n",
       "1999996  a99f214a  ...  1005  22676  320  50  2616   0    35       NaN   51   \n",
       "1999997  a99f214a  ...  1005  23725  320  50  2716   3    47  100217.0   23   \n",
       "1999998  e5ad704a  ...  1005  23644  300  50  2709   3    39  100013.0   23   \n",
       "\n",
       "         click  \n",
       "0            0  \n",
       "1            0  \n",
       "2            1  \n",
       "3            0  \n",
       "4            1  \n",
       "...        ...  \n",
       "1999994      0  \n",
       "1999995      0  \n",
       "1999996      0  \n",
       "1999997      0  \n",
       "1999998      0  \n",
       "\n",
       "[1999999 rows x 24 columns]"
      ]
     },
     "execution_count": 135,
     "metadata": {},
     "output_type": "execute_result"
    }
   ],
   "source": [
    "data"
   ]
  },
  {
   "cell_type": "code",
   "execution_count": 136,
   "id": "c949d5cc",
   "metadata": {},
   "outputs": [
    {
     "data": {
      "text/plain": [
       "Index(['id', 'unix_timestamp', 'ui_component_position', 'site_id',\n",
       "       'site_domain', 'site_category', 'app_id', 'app_domain', 'app_category',\n",
       "       'device_id', 'device_ip', 'device_model', 'device_type',\n",
       "       'device_conn_type', 'f0', 'f1', 'f2', 'f3', 'f4', 'f5', 'f6', 'f7',\n",
       "       'f8', 'click'],\n",
       "      dtype='object')"
      ]
     },
     "execution_count": 136,
     "metadata": {},
     "output_type": "execute_result"
    }
   ],
   "source": [
    "data.columns"
   ]
  },
  {
   "cell_type": "code",
   "execution_count": 137,
   "id": "00240664",
   "metadata": {},
   "outputs": [
    {
     "data": {
      "text/plain": [
       "id                        uint64\n",
       "unix_timestamp             int64\n",
       "ui_component_position      int64\n",
       "site_id                   object\n",
       "site_domain               object\n",
       "site_category             object\n",
       "app_id                    object\n",
       "app_domain                object\n",
       "app_category              object\n",
       "device_id                 object\n",
       "device_ip                 object\n",
       "device_model              object\n",
       "device_type                int64\n",
       "device_conn_type           int64\n",
       "f0                         int64\n",
       "f1                         int64\n",
       "f2                         int64\n",
       "f3                         int64\n",
       "f4                         int64\n",
       "f5                         int64\n",
       "f6                         int64\n",
       "f7                       float64\n",
       "f8                         int64\n",
       "click                      int64\n",
       "dtype: object"
      ]
     },
     "execution_count": 137,
     "metadata": {},
     "output_type": "execute_result"
    }
   ],
   "source": [
    "data.dtypes"
   ]
  },
  {
   "cell_type": "markdown",
   "id": "83a3a718",
   "metadata": {},
   "source": [
    "### Checking class balance or imbalance for the target values"
   ]
  },
  {
   "cell_type": "code",
   "execution_count": 138,
   "id": "70863771",
   "metadata": {},
   "outputs": [
    {
     "data": {
      "text/plain": [
       "0    1660242\n",
       "1     339757\n",
       "Name: click, dtype: int64"
      ]
     },
     "execution_count": 138,
     "metadata": {},
     "output_type": "execute_result"
    }
   ],
   "source": [
    "data[\"click\"].value_counts()"
   ]
  },
  {
   "cell_type": "code",
   "execution_count": 139,
   "id": "ffff436b",
   "metadata": {},
   "outputs": [
    {
     "data": {
      "text/plain": [
       "50e219e0    819116\n",
       "f028772b    625633\n",
       "28905ebd    364460\n",
       "3e814130    151054\n",
       "f66779e6     12325\n",
       "75fa27f6      8061\n",
       "335d28a8      6739\n",
       "76b2941d      5155\n",
       "c0dd3be3      2006\n",
       "72722551      1447\n",
       "dedf689d      1238\n",
       "70fb0e29      1151\n",
       "0569f928       813\n",
       "8fd0aea4       352\n",
       "a818d37a       182\n",
       "42a36e14       117\n",
       "e787de0e        69\n",
       "bcf865d9        39\n",
       "5378d028        28\n",
       "9ccfa2ea        12\n",
       "74073276         2\n",
       "Name: site_category, dtype: int64"
      ]
     },
     "execution_count": 139,
     "metadata": {},
     "output_type": "execute_result"
    }
   ],
   "source": [
    "data['site_category'].value_counts()"
   ]
  },
  {
   "cell_type": "code",
   "execution_count": 140,
   "id": "bfffd9ab",
   "metadata": {},
   "outputs": [
    {
     "data": {
      "text/plain": [
       "c4e18dd6    748888\n",
       "f3845767    320736\n",
       "7e091613    164808\n",
       "7687a86e     63959\n",
       "98572c79     49383\n",
       "             ...  \n",
       "8df32dac         1\n",
       "d848447b         1\n",
       "61cd7291         1\n",
       "b07a7798         1\n",
       "88df5484         1\n",
       "Name: site_domain, Length: 3486, dtype: int64"
      ]
     },
     "execution_count": 140,
     "metadata": {},
     "output_type": "execute_result"
    }
   ],
   "source": [
    "data['site_domain'].value_counts()"
   ]
  },
  {
   "cell_type": "code",
   "execution_count": 141,
   "id": "9340cf62",
   "metadata": {},
   "outputs": [
    {
     "data": {
      "text/plain": [
       "50e219e0    819116\n",
       "f028772b    625633\n",
       "28905ebd    364460\n",
       "3e814130    151054\n",
       "f66779e6     12325\n",
       "75fa27f6      8061\n",
       "335d28a8      6739\n",
       "76b2941d      5155\n",
       "c0dd3be3      2006\n",
       "72722551      1447\n",
       "dedf689d      1238\n",
       "70fb0e29      1151\n",
       "0569f928       813\n",
       "8fd0aea4       352\n",
       "a818d37a       182\n",
       "42a36e14       117\n",
       "e787de0e        69\n",
       "bcf865d9        39\n",
       "5378d028        28\n",
       "9ccfa2ea        12\n",
       "74073276         2\n",
       "Name: site_category, dtype: int64"
      ]
     },
     "execution_count": 141,
     "metadata": {},
     "output_type": "execute_result"
    }
   ],
   "source": [
    "data[\"site_category\"].value_counts()"
   ]
  },
  {
   "cell_type": "code",
   "execution_count": 142,
   "id": "e5a99eb2",
   "metadata": {},
   "outputs": [
    {
     "data": {
      "text/plain": [
       "ecad2386    1277283\n",
       "92f5800b      77181\n",
       "e2fcccd2      56102\n",
       "febd1138      37416\n",
       "9c13b419      37292\n",
       "             ...   \n",
       "c702627e          1\n",
       "b4d2cfa1          1\n",
       "e937e647          1\n",
       "9ed7c8e7          1\n",
       "b62b1827          1\n",
       "Name: app_id, Length: 3905, dtype: int64"
      ]
     },
     "execution_count": 142,
     "metadata": {},
     "output_type": "execute_result"
    }
   ],
   "source": [
    "data[\"app_id\"].value_counts()"
   ]
  },
  {
   "cell_type": "code",
   "execution_count": 143,
   "id": "4bdb056c",
   "metadata": {},
   "outputs": [
    {
     "data": {
      "text/plain": [
       "7801e8d9    1346893\n",
       "2347f47a     259372\n",
       "ae637522      93280\n",
       "5c5a694b      56108\n",
       "82e27996      37418\n",
       "             ...   \n",
       "e4a3128e          1\n",
       "e6cf1c39          1\n",
       "f2140094          1\n",
       "a7accd5b          1\n",
       "a696f7de          1\n",
       "Name: app_domain, Length: 252, dtype: int64"
      ]
     },
     "execution_count": 143,
     "metadata": {},
     "output_type": "execute_result"
    }
   ],
   "source": [
    "data[\"app_domain\"].value_counts()"
   ]
  },
  {
   "cell_type": "code",
   "execution_count": 144,
   "id": "86a1b2e6",
   "metadata": {},
   "outputs": [
    {
     "data": {
      "text/plain": [
       "07d7df22    1293980\n",
       "0f2161f8     473552\n",
       "cef3e649      85298\n",
       "8ded1f7a      72748\n",
       "f95efa07      56324\n",
       "d1327cf5       6143\n",
       "09481d60       2830\n",
       "dc97ec06       2731\n",
       "75d80bbe       1928\n",
       "fc6fa53d       1177\n",
       "4ce2e9fc       1076\n",
       "879c24eb        676\n",
       "a3c42688        542\n",
       "4681bb9d        278\n",
       "0f9a328c        267\n",
       "a86a3e89        135\n",
       "2281a340        106\n",
       "8df2e842         96\n",
       "79f0b860         32\n",
       "0bfbc358         19\n",
       "7113d72a         14\n",
       "a7fd01ec         14\n",
       "2fc4f2aa         11\n",
       "18b1e0be         11\n",
       "5326cf99          5\n",
       "0d82db25          4\n",
       "f395a87f          1\n",
       "bf8ac856          1\n",
       "Name: app_category, dtype: int64"
      ]
     },
     "execution_count": 144,
     "metadata": {},
     "output_type": "execute_result"
    }
   ],
   "source": [
    "data[\"app_category\"].value_counts()"
   ]
  },
  {
   "cell_type": "code",
   "execution_count": 145,
   "id": "41f2beb5",
   "metadata": {},
   "outputs": [
    {
     "data": {
      "text/plain": [
       "8a4875bd    121347\n",
       "1f0bc64f     70211\n",
       "d787e91b     69765\n",
       "76dc4769     38249\n",
       "be6db1d7     36425\n",
       "             ...  \n",
       "cb1d76e2         1\n",
       "a7b2ed65         1\n",
       "4f4cc405         1\n",
       "9ab1415c         1\n",
       "dd5aee98         1\n",
       "Name: device_model, Length: 5755, dtype: int64"
      ]
     },
     "execution_count": 145,
     "metadata": {},
     "output_type": "execute_result"
    }
   ],
   "source": [
    "data[\"device_model\"].value_counts()"
   ]
  },
  {
   "cell_type": "code",
   "execution_count": 146,
   "id": "3ab4b2aa",
   "metadata": {},
   "outputs": [
    {
     "data": {
      "text/plain": [
       "a99f214a    1649314\n",
       "0f7c61dc       1046\n",
       "c357dbff       1003\n",
       "936e92fb        673\n",
       "afeffc18        498\n",
       "             ...   \n",
       "d2b18211          1\n",
       "7c94d179          1\n",
       "ef0578ed          1\n",
       "ad2c9053          1\n",
       "8e8d08ba          1\n",
       "Name: device_id, Length: 279356, dtype: int64"
      ]
     },
     "execution_count": 146,
     "metadata": {},
     "output_type": "execute_result"
    }
   ],
   "source": [
    "data[\"device_id\"].value_counts()"
   ]
  },
  {
   "cell_type": "code",
   "execution_count": 147,
   "id": "2edd61e2",
   "metadata": {},
   "outputs": [
    {
     "data": {
      "text/plain": [
       "6b9769f2    10336\n",
       "431b3174     6662\n",
       "2f323f36     4397\n",
       "af9205f9     4322\n",
       "af62faf4     4310\n",
       "            ...  \n",
       "deebcba1        1\n",
       "c86c0141        1\n",
       "1d793863        1\n",
       "4ff2c252        1\n",
       "79486d8c        1\n",
       "Name: device_ip, Length: 963221, dtype: int64"
      ]
     },
     "execution_count": 147,
     "metadata": {},
     "output_type": "execute_result"
    }
   ],
   "source": [
    "data[\"device_ip\"].value_counts()"
   ]
  },
  {
   "cell_type": "code",
   "execution_count": 148,
   "id": "6efc105a",
   "metadata": {},
   "outputs": [
    {
     "data": {
      "text/html": [
       "<div>\n",
       "<style scoped>\n",
       "    .dataframe tbody tr th:only-of-type {\n",
       "        vertical-align: middle;\n",
       "    }\n",
       "\n",
       "    .dataframe tbody tr th {\n",
       "        vertical-align: top;\n",
       "    }\n",
       "\n",
       "    .dataframe thead th {\n",
       "        text-align: right;\n",
       "    }\n",
       "</style>\n",
       "<table border=\"1\" class=\"dataframe\">\n",
       "  <thead>\n",
       "    <tr style=\"text-align: right;\">\n",
       "      <th></th>\n",
       "      <th>id</th>\n",
       "      <th>unix_timestamp</th>\n",
       "      <th>ui_component_position</th>\n",
       "      <th>device_type</th>\n",
       "      <th>device_conn_type</th>\n",
       "      <th>f0</th>\n",
       "      <th>f1</th>\n",
       "      <th>f2</th>\n",
       "      <th>f3</th>\n",
       "      <th>f4</th>\n",
       "      <th>f5</th>\n",
       "      <th>f6</th>\n",
       "      <th>f7</th>\n",
       "      <th>f8</th>\n",
       "      <th>click</th>\n",
       "    </tr>\n",
       "  </thead>\n",
       "  <tbody>\n",
       "    <tr>\n",
       "      <th>count</th>\n",
       "      <td>1.999999e+06</td>\n",
       "      <td>1.999999e+06</td>\n",
       "      <td>1.999999e+06</td>\n",
       "      <td>1.999999e+06</td>\n",
       "      <td>1.999999e+06</td>\n",
       "      <td>1.999999e+06</td>\n",
       "      <td>1.999999e+06</td>\n",
       "      <td>1.999999e+06</td>\n",
       "      <td>1.999999e+06</td>\n",
       "      <td>1.999999e+06</td>\n",
       "      <td>1.999999e+06</td>\n",
       "      <td>1.999999e+06</td>\n",
       "      <td>1.062756e+06</td>\n",
       "      <td>1.999999e+06</td>\n",
       "      <td>1.999999e+06</td>\n",
       "    </tr>\n",
       "    <tr>\n",
       "      <th>mean</th>\n",
       "      <td>9.220606e+18</td>\n",
       "      <td>1.414276e+09</td>\n",
       "      <td>2.876976e-01</td>\n",
       "      <td>1.014939e+00</td>\n",
       "      <td>3.320797e-01</td>\n",
       "      <td>1.004967e+03</td>\n",
       "      <td>1.883260e+04</td>\n",
       "      <td>3.188733e+02</td>\n",
       "      <td>6.009756e+01</td>\n",
       "      <td>2.111678e+03</td>\n",
       "      <td>1.432941e+00</td>\n",
       "      <td>2.275286e+02</td>\n",
       "      <td>1.001125e+05</td>\n",
       "      <td>8.332048e+01</td>\n",
       "      <td>1.698786e-01</td>\n",
       "    </tr>\n",
       "    <tr>\n",
       "      <th>std</th>\n",
       "      <td>5.324011e+18</td>\n",
       "      <td>2.577985e+05</td>\n",
       "      <td>5.060088e-01</td>\n",
       "      <td>5.271822e-01</td>\n",
       "      <td>8.555685e-01</td>\n",
       "      <td>1.095353e+00</td>\n",
       "      <td>4.969209e+03</td>\n",
       "      <td>2.118907e+01</td>\n",
       "      <td>4.718247e+01</td>\n",
       "      <td>6.103768e+02</td>\n",
       "      <td>1.325602e+00</td>\n",
       "      <td>3.514350e+02</td>\n",
       "      <td>5.095875e+01</td>\n",
       "      <td>7.025905e+01</td>\n",
       "      <td>3.755262e-01</td>\n",
       "    </tr>\n",
       "    <tr>\n",
       "      <th>min</th>\n",
       "      <td>6.220845e+12</td>\n",
       "      <td>1.413850e+09</td>\n",
       "      <td>0.000000e+00</td>\n",
       "      <td>0.000000e+00</td>\n",
       "      <td>0.000000e+00</td>\n",
       "      <td>1.001000e+03</td>\n",
       "      <td>3.750000e+02</td>\n",
       "      <td>1.200000e+02</td>\n",
       "      <td>2.000000e+01</td>\n",
       "      <td>1.120000e+02</td>\n",
       "      <td>0.000000e+00</td>\n",
       "      <td>3.300000e+01</td>\n",
       "      <td>1.000000e+05</td>\n",
       "      <td>1.000000e+00</td>\n",
       "      <td>0.000000e+00</td>\n",
       "    </tr>\n",
       "    <tr>\n",
       "      <th>25%</th>\n",
       "      <td>4.606495e+18</td>\n",
       "      <td>1.414037e+09</td>\n",
       "      <td>0.000000e+00</td>\n",
       "      <td>1.000000e+00</td>\n",
       "      <td>0.000000e+00</td>\n",
       "      <td>1.005000e+03</td>\n",
       "      <td>1.692000e+04</td>\n",
       "      <td>3.200000e+02</td>\n",
       "      <td>5.000000e+01</td>\n",
       "      <td>1.863000e+03</td>\n",
       "      <td>0.000000e+00</td>\n",
       "      <td>3.500000e+01</td>\n",
       "      <td>1.000770e+05</td>\n",
       "      <td>2.300000e+01</td>\n",
       "      <td>0.000000e+00</td>\n",
       "    </tr>\n",
       "    <tr>\n",
       "      <th>50%</th>\n",
       "      <td>9.219336e+18</td>\n",
       "      <td>1.414289e+09</td>\n",
       "      <td>0.000000e+00</td>\n",
       "      <td>1.000000e+00</td>\n",
       "      <td>0.000000e+00</td>\n",
       "      <td>1.005000e+03</td>\n",
       "      <td>2.034600e+04</td>\n",
       "      <td>3.200000e+02</td>\n",
       "      <td>5.000000e+01</td>\n",
       "      <td>2.323000e+03</td>\n",
       "      <td>2.000000e+00</td>\n",
       "      <td>3.900000e+01</td>\n",
       "      <td>1.000840e+05</td>\n",
       "      <td>6.100000e+01</td>\n",
       "      <td>0.000000e+00</td>\n",
       "    </tr>\n",
       "    <tr>\n",
       "      <th>75%</th>\n",
       "      <td>1.383325e+19</td>\n",
       "      <td>1.414505e+09</td>\n",
       "      <td>1.000000e+00</td>\n",
       "      <td>1.000000e+00</td>\n",
       "      <td>0.000000e+00</td>\n",
       "      <td>1.005000e+03</td>\n",
       "      <td>2.189400e+04</td>\n",
       "      <td>3.200000e+02</td>\n",
       "      <td>5.000000e+01</td>\n",
       "      <td>2.526000e+03</td>\n",
       "      <td>3.000000e+00</td>\n",
       "      <td>1.710000e+02</td>\n",
       "      <td>1.001560e+05</td>\n",
       "      <td>1.010000e+02</td>\n",
       "      <td>0.000000e+00</td>\n",
       "    </tr>\n",
       "    <tr>\n",
       "      <th>max</th>\n",
       "      <td>1.844674e+19</td>\n",
       "      <td>1.414710e+09</td>\n",
       "      <td>7.000000e+00</td>\n",
       "      <td>5.000000e+00</td>\n",
       "      <td>5.000000e+00</td>\n",
       "      <td>1.012000e+03</td>\n",
       "      <td>2.405200e+04</td>\n",
       "      <td>1.024000e+03</td>\n",
       "      <td>1.024000e+03</td>\n",
       "      <td>2.758000e+03</td>\n",
       "      <td>3.000000e+00</td>\n",
       "      <td>1.839000e+03</td>\n",
       "      <td>1.002480e+05</td>\n",
       "      <td>2.550000e+02</td>\n",
       "      <td>1.000000e+00</td>\n",
       "    </tr>\n",
       "  </tbody>\n",
       "</table>\n",
       "</div>"
      ],
      "text/plain": [
       "                 id  unix_timestamp  ui_component_position   device_type  \\\n",
       "count  1.999999e+06    1.999999e+06           1.999999e+06  1.999999e+06   \n",
       "mean   9.220606e+18    1.414276e+09           2.876976e-01  1.014939e+00   \n",
       "std    5.324011e+18    2.577985e+05           5.060088e-01  5.271822e-01   \n",
       "min    6.220845e+12    1.413850e+09           0.000000e+00  0.000000e+00   \n",
       "25%    4.606495e+18    1.414037e+09           0.000000e+00  1.000000e+00   \n",
       "50%    9.219336e+18    1.414289e+09           0.000000e+00  1.000000e+00   \n",
       "75%    1.383325e+19    1.414505e+09           1.000000e+00  1.000000e+00   \n",
       "max    1.844674e+19    1.414710e+09           7.000000e+00  5.000000e+00   \n",
       "\n",
       "       device_conn_type            f0            f1            f2  \\\n",
       "count      1.999999e+06  1.999999e+06  1.999999e+06  1.999999e+06   \n",
       "mean       3.320797e-01  1.004967e+03  1.883260e+04  3.188733e+02   \n",
       "std        8.555685e-01  1.095353e+00  4.969209e+03  2.118907e+01   \n",
       "min        0.000000e+00  1.001000e+03  3.750000e+02  1.200000e+02   \n",
       "25%        0.000000e+00  1.005000e+03  1.692000e+04  3.200000e+02   \n",
       "50%        0.000000e+00  1.005000e+03  2.034600e+04  3.200000e+02   \n",
       "75%        0.000000e+00  1.005000e+03  2.189400e+04  3.200000e+02   \n",
       "max        5.000000e+00  1.012000e+03  2.405200e+04  1.024000e+03   \n",
       "\n",
       "                 f3            f4            f5            f6            f7  \\\n",
       "count  1.999999e+06  1.999999e+06  1.999999e+06  1.999999e+06  1.062756e+06   \n",
       "mean   6.009756e+01  2.111678e+03  1.432941e+00  2.275286e+02  1.001125e+05   \n",
       "std    4.718247e+01  6.103768e+02  1.325602e+00  3.514350e+02  5.095875e+01   \n",
       "min    2.000000e+01  1.120000e+02  0.000000e+00  3.300000e+01  1.000000e+05   \n",
       "25%    5.000000e+01  1.863000e+03  0.000000e+00  3.500000e+01  1.000770e+05   \n",
       "50%    5.000000e+01  2.323000e+03  2.000000e+00  3.900000e+01  1.000840e+05   \n",
       "75%    5.000000e+01  2.526000e+03  3.000000e+00  1.710000e+02  1.001560e+05   \n",
       "max    1.024000e+03  2.758000e+03  3.000000e+00  1.839000e+03  1.002480e+05   \n",
       "\n",
       "                 f8         click  \n",
       "count  1.999999e+06  1.999999e+06  \n",
       "mean   8.332048e+01  1.698786e-01  \n",
       "std    7.025905e+01  3.755262e-01  \n",
       "min    1.000000e+00  0.000000e+00  \n",
       "25%    2.300000e+01  0.000000e+00  \n",
       "50%    6.100000e+01  0.000000e+00  \n",
       "75%    1.010000e+02  0.000000e+00  \n",
       "max    2.550000e+02  1.000000e+00  "
      ]
     },
     "execution_count": 148,
     "metadata": {},
     "output_type": "execute_result"
    }
   ],
   "source": [
    "data.describe()"
   ]
  },
  {
   "cell_type": "code",
   "execution_count": 149,
   "id": "14941911",
   "metadata": {},
   "outputs": [],
   "source": [
    "d_device = pd.concat([data['device_type'], data[\"click\"]],axis=1)"
   ]
  },
  {
   "cell_type": "code",
   "execution_count": 150,
   "id": "03fb99cb",
   "metadata": {},
   "outputs": [
    {
     "data": {
      "text/plain": [
       "1    1844917\n",
       "0     110406\n",
       "4      38417\n",
       "5       6258\n",
       "2          1\n",
       "Name: device_type, dtype: int64"
      ]
     },
     "execution_count": 150,
     "metadata": {},
     "output_type": "execute_result"
    },
    {
     "data": {
      "image/png": "[encoded data removed]",
      "text/plain": [
       "<Figure size 432x288 with 1 Axes>"
      ]
     },
     "metadata": {
      "needs_background": "light"
     },
     "output_type": "display_data"
    }
   ],
   "source": [
    "sns.countplot(x='device_type', data=d_device)\n",
    "d_device.loc[:,'device_type'].value_counts()"
   ]
  },
  {
   "cell_type": "code",
   "execution_count": 151,
   "id": "9f0fff46",
   "metadata": {},
   "outputs": [
    {
     "data": {
      "text/html": [
       "<div>\n",
       "<style scoped>\n",
       "    .dataframe tbody tr th:only-of-type {\n",
       "        vertical-align: middle;\n",
       "    }\n",
       "\n",
       "    .dataframe tbody tr th {\n",
       "        vertical-align: top;\n",
       "    }\n",
       "\n",
       "    .dataframe thead th {\n",
       "        text-align: right;\n",
       "    }\n",
       "</style>\n",
       "<table border=\"1\" class=\"dataframe\">\n",
       "  <thead>\n",
       "    <tr style=\"text-align: right;\">\n",
       "      <th>click</th>\n",
       "      <th>0</th>\n",
       "      <th>1</th>\n",
       "    </tr>\n",
       "    <tr>\n",
       "      <th>device_type</th>\n",
       "      <th></th>\n",
       "      <th></th>\n",
       "    </tr>\n",
       "  </thead>\n",
       "  <tbody>\n",
       "    <tr>\n",
       "      <th>0</th>\n",
       "      <td>87049</td>\n",
       "      <td>23357</td>\n",
       "    </tr>\n",
       "    <tr>\n",
       "      <th>1</th>\n",
       "      <td>1532726</td>\n",
       "      <td>312191</td>\n",
       "    </tr>\n",
       "    <tr>\n",
       "      <th>2</th>\n",
       "      <td>1</td>\n",
       "      <td>0</td>\n",
       "    </tr>\n",
       "    <tr>\n",
       "      <th>4</th>\n",
       "      <td>34789</td>\n",
       "      <td>3628</td>\n",
       "    </tr>\n",
       "    <tr>\n",
       "      <th>5</th>\n",
       "      <td>5677</td>\n",
       "      <td>581</td>\n",
       "    </tr>\n",
       "  </tbody>\n",
       "</table>\n",
       "</div>"
      ],
      "text/plain": [
       "click              0       1\n",
       "device_type                 \n",
       "0              87049   23357\n",
       "1            1532726  312191\n",
       "2                  1       0\n",
       "4              34789    3628\n",
       "5               5677     581"
      ]
     },
     "execution_count": 151,
     "metadata": {},
     "output_type": "execute_result"
    }
   ],
   "source": [
    "device_type_table = pd.crosstab(data['device_type'], data[\"click\"])\n",
    "device_type_table"
   ]
  },
  {
   "cell_type": "code",
   "execution_count": 152,
   "id": "25571470",
   "metadata": {},
   "outputs": [
    {
     "data": {
      "text/plain": [
       "<AxesSubplot:xlabel='device_type'>"
      ]
     },
     "execution_count": 152,
     "metadata": {},
     "output_type": "execute_result"
    },
    {
     "data": {
      "image/png": "[encoded data removed]",
      "text/plain": [
       "<Figure size 360x360 with 1 Axes>"
      ]
     },
     "metadata": {
      "needs_background": "light"
     },
     "output_type": "display_data"
    }
   ],
   "source": [
    "device_type_table.plot(kind='bar',figsize=(5,5),stacked=False)"
   ]
  },
  {
   "cell_type": "code",
   "execution_count": 153,
   "id": "fac78b54",
   "metadata": {},
   "outputs": [
    {
     "data": {
      "text/plain": [
       "<AxesSubplot:>"
      ]
     },
     "execution_count": 153,
     "metadata": {},
     "output_type": "execute_result"
    },
    {
     "data": {
      "image/png": "[encoded data removed]",
      "text/plain": [
       "<Figure size 792x648 with 2 Axes>"
      ]
     },
     "metadata": {
      "needs_background": "light"
     },
     "output_type": "display_data"
    }
   ],
   "source": [
    "data_correlation = data.corr(method='pearson')\n",
    "f, ax = plt.subplots(figsize=(11,9))\n",
    "cmap = sns.diverging_palette(220, 10, as_cmap=True)\n",
    "sns.heatmap(data_correlation, cmap=cmap, vmax=0.3, center=0, square=True, linewidths=0.5, cbar_kws={\"shrink\": 0.5})"
   ]
  },
  {
   "cell_type": "code",
   "execution_count": 154,
   "id": "fa5cc0c2",
   "metadata": {},
   "outputs": [
    {
     "data": {
      "text/plain": [
       "f7                       937243\n",
       "id                            0\n",
       "unix_timestamp                0\n",
       "f8                            0\n",
       "f6                            0\n",
       "f5                            0\n",
       "f4                            0\n",
       "f3                            0\n",
       "f2                            0\n",
       "f1                            0\n",
       "f0                            0\n",
       "device_conn_type              0\n",
       "device_type                   0\n",
       "device_model                  0\n",
       "device_ip                     0\n",
       "device_id                     0\n",
       "app_category                  0\n",
       "app_domain                    0\n",
       "app_id                        0\n",
       "site_category                 0\n",
       "site_domain                   0\n",
       "site_id                       0\n",
       "ui_component_position         0\n",
       "click                         0\n",
       "dtype: int64"
      ]
     },
     "execution_count": 154,
     "metadata": {},
     "output_type": "execute_result"
    }
   ],
   "source": [
    "data.isnull().sum().sort_values(ascending=False)"
   ]
  },
  {
   "cell_type": "markdown",
   "id": "7c1d95bf",
   "metadata": {},
   "source": [
    "### Drop duplicates and Null entries"
   ]
  },
  {
   "cell_type": "code",
   "execution_count": 155,
   "id": "f6fc14bc",
   "metadata": {},
   "outputs": [
    {
     "name": "stdout",
     "output_type": "stream",
     "text": [
      "(1999999, 24)\n"
     ]
    },
    {
     "data": {
      "text/plain": [
       "(1999999, 24)"
      ]
     },
     "execution_count": 155,
     "metadata": {},
     "output_type": "execute_result"
    }
   ],
   "source": [
    "print(data.shape)\n",
    "data = data.drop_duplicates(keep = 'first')\n",
    "data.shape"
   ]
  },
  {
   "cell_type": "code",
   "execution_count": 156,
   "id": "d29bdb02",
   "metadata": {},
   "outputs": [
    {
     "data": {
      "text/plain": [
       "(1999999, 24)"
      ]
     },
     "execution_count": 156,
     "metadata": {},
     "output_type": "execute_result"
    }
   ],
   "source": [
    "# Removing null etries\n",
    "data.dropna()\n",
    "data.shape"
   ]
  },
  {
   "cell_type": "code",
   "execution_count": 157,
   "id": "bfa780d8",
   "metadata": {},
   "outputs": [],
   "source": [
    "# Function to map categorical variables (dtypes objects) into numerical representation\n",
    "def map_function(column):\n",
    "    map_dictionary = defaultdict(int)\n",
    "    for i, j in enumerate(data[column].unique()):\n",
    "        map_dictionary[j]=i+1\n",
    "    return(map_dictionary)"
   ]
  },
  {
   "cell_type": "code",
   "execution_count": 158,
   "id": "786a27fe",
   "metadata": {},
   "outputs": [
    {
     "data": {
      "text/html": [
       "<div>\n",
       "<style scoped>\n",
       "    .dataframe tbody tr th:only-of-type {\n",
       "        vertical-align: middle;\n",
       "    }\n",
       "\n",
       "    .dataframe tbody tr th {\n",
       "        vertical-align: top;\n",
       "    }\n",
       "\n",
       "    .dataframe thead th {\n",
       "        text-align: right;\n",
       "    }\n",
       "</style>\n",
       "<table border=\"1\" class=\"dataframe\">\n",
       "  <thead>\n",
       "    <tr style=\"text-align: right;\">\n",
       "      <th></th>\n",
       "      <th>id</th>\n",
       "      <th>unix_timestamp</th>\n",
       "      <th>ui_component_position</th>\n",
       "      <th>site_id</th>\n",
       "      <th>site_domain</th>\n",
       "      <th>site_category</th>\n",
       "      <th>app_id</th>\n",
       "      <th>app_domain</th>\n",
       "      <th>app_category</th>\n",
       "      <th>device_id</th>\n",
       "      <th>...</th>\n",
       "      <th>f0</th>\n",
       "      <th>f1</th>\n",
       "      <th>f2</th>\n",
       "      <th>f3</th>\n",
       "      <th>f4</th>\n",
       "      <th>f5</th>\n",
       "      <th>f6</th>\n",
       "      <th>f7</th>\n",
       "      <th>f8</th>\n",
       "      <th>click</th>\n",
       "    </tr>\n",
       "  </thead>\n",
       "  <tbody>\n",
       "    <tr>\n",
       "      <th>0</th>\n",
       "      <td>10000679056417042096</td>\n",
       "      <td>1413849600</td>\n",
       "      <td>1</td>\n",
       "      <td>fe8cc448</td>\n",
       "      <td>1</td>\n",
       "      <td>0569f928</td>\n",
       "      <td>1</td>\n",
       "      <td>1</td>\n",
       "      <td>1</td>\n",
       "      <td>a99f214a</td>\n",
       "      <td>...</td>\n",
       "      <td>1005</td>\n",
       "      <td>18993</td>\n",
       "      <td>320</td>\n",
       "      <td>50</td>\n",
       "      <td>2161</td>\n",
       "      <td>0</td>\n",
       "      <td>35</td>\n",
       "      <td>NaN</td>\n",
       "      <td>157</td>\n",
       "      <td>0</td>\n",
       "    </tr>\n",
       "    <tr>\n",
       "      <th>1</th>\n",
       "      <td>10010730108771379386</td>\n",
       "      <td>1413849600</td>\n",
       "      <td>1</td>\n",
       "      <td>e151e245</td>\n",
       "      <td>2</td>\n",
       "      <td>f028772b</td>\n",
       "      <td>1</td>\n",
       "      <td>1</td>\n",
       "      <td>1</td>\n",
       "      <td>a99f214a</td>\n",
       "      <td>...</td>\n",
       "      <td>1005</td>\n",
       "      <td>20634</td>\n",
       "      <td>320</td>\n",
       "      <td>50</td>\n",
       "      <td>2374</td>\n",
       "      <td>3</td>\n",
       "      <td>39</td>\n",
       "      <td>NaN</td>\n",
       "      <td>23</td>\n",
       "      <td>0</td>\n",
       "    </tr>\n",
       "    <tr>\n",
       "      <th>2</th>\n",
       "      <td>10017325201002992404</td>\n",
       "      <td>1413849600</td>\n",
       "      <td>0</td>\n",
       "      <td>1fbe01fe</td>\n",
       "      <td>3</td>\n",
       "      <td>28905ebd</td>\n",
       "      <td>1</td>\n",
       "      <td>1</td>\n",
       "      <td>1</td>\n",
       "      <td>a99f214a</td>\n",
       "      <td>...</td>\n",
       "      <td>1005</td>\n",
       "      <td>15705</td>\n",
       "      <td>320</td>\n",
       "      <td>50</td>\n",
       "      <td>1722</td>\n",
       "      <td>0</td>\n",
       "      <td>35</td>\n",
       "      <td>NaN</td>\n",
       "      <td>79</td>\n",
       "      <td>1</td>\n",
       "    </tr>\n",
       "    <tr>\n",
       "      <th>3</th>\n",
       "      <td>10018897422996679694</td>\n",
       "      <td>1413849600</td>\n",
       "      <td>1</td>\n",
       "      <td>e151e245</td>\n",
       "      <td>2</td>\n",
       "      <td>f028772b</td>\n",
       "      <td>1</td>\n",
       "      <td>1</td>\n",
       "      <td>1</td>\n",
       "      <td>a99f214a</td>\n",
       "      <td>...</td>\n",
       "      <td>1005</td>\n",
       "      <td>20366</td>\n",
       "      <td>320</td>\n",
       "      <td>50</td>\n",
       "      <td>2333</td>\n",
       "      <td>0</td>\n",
       "      <td>39</td>\n",
       "      <td>NaN</td>\n",
       "      <td>157</td>\n",
       "      <td>0</td>\n",
       "    </tr>\n",
       "    <tr>\n",
       "      <th>4</th>\n",
       "      <td>10024660782388112342</td>\n",
       "      <td>1413849600</td>\n",
       "      <td>1</td>\n",
       "      <td>d9750ee7</td>\n",
       "      <td>4</td>\n",
       "      <td>f028772b</td>\n",
       "      <td>1</td>\n",
       "      <td>1</td>\n",
       "      <td>1</td>\n",
       "      <td>a99f214a</td>\n",
       "      <td>...</td>\n",
       "      <td>1005</td>\n",
       "      <td>17614</td>\n",
       "      <td>320</td>\n",
       "      <td>50</td>\n",
       "      <td>1993</td>\n",
       "      <td>2</td>\n",
       "      <td>1063</td>\n",
       "      <td>100083.0</td>\n",
       "      <td>33</td>\n",
       "      <td>1</td>\n",
       "    </tr>\n",
       "    <tr>\n",
       "      <th>...</th>\n",
       "      <td>...</td>\n",
       "      <td>...</td>\n",
       "      <td>...</td>\n",
       "      <td>...</td>\n",
       "      <td>...</td>\n",
       "      <td>...</td>\n",
       "      <td>...</td>\n",
       "      <td>...</td>\n",
       "      <td>...</td>\n",
       "      <td>...</td>\n",
       "      <td>...</td>\n",
       "      <td>...</td>\n",
       "      <td>...</td>\n",
       "      <td>...</td>\n",
       "      <td>...</td>\n",
       "      <td>...</td>\n",
       "      <td>...</td>\n",
       "      <td>...</td>\n",
       "      <td>...</td>\n",
       "      <td>...</td>\n",
       "      <td>...</td>\n",
       "    </tr>\n",
       "    <tr>\n",
       "      <th>1999994</th>\n",
       "      <td>9985626755387297314</td>\n",
       "      <td>1414710000</td>\n",
       "      <td>1</td>\n",
       "      <td>e151e245</td>\n",
       "      <td>2</td>\n",
       "      <td>f028772b</td>\n",
       "      <td>1</td>\n",
       "      <td>1</td>\n",
       "      <td>1</td>\n",
       "      <td>a99f214a</td>\n",
       "      <td>...</td>\n",
       "      <td>1005</td>\n",
       "      <td>17037</td>\n",
       "      <td>320</td>\n",
       "      <td>50</td>\n",
       "      <td>1934</td>\n",
       "      <td>2</td>\n",
       "      <td>39</td>\n",
       "      <td>NaN</td>\n",
       "      <td>16</td>\n",
       "      <td>0</td>\n",
       "    </tr>\n",
       "    <tr>\n",
       "      <th>1999995</th>\n",
       "      <td>9987260269049664739</td>\n",
       "      <td>1414710000</td>\n",
       "      <td>0</td>\n",
       "      <td>85f751fd</td>\n",
       "      <td>7</td>\n",
       "      <td>50e219e0</td>\n",
       "      <td>5</td>\n",
       "      <td>4</td>\n",
       "      <td>3</td>\n",
       "      <td>c7a43d7c</td>\n",
       "      <td>...</td>\n",
       "      <td>1005</td>\n",
       "      <td>20632</td>\n",
       "      <td>320</td>\n",
       "      <td>50</td>\n",
       "      <td>2374</td>\n",
       "      <td>3</td>\n",
       "      <td>39</td>\n",
       "      <td>NaN</td>\n",
       "      <td>23</td>\n",
       "      <td>0</td>\n",
       "    </tr>\n",
       "    <tr>\n",
       "      <th>1999996</th>\n",
       "      <td>9989166246566057980</td>\n",
       "      <td>1414710000</td>\n",
       "      <td>0</td>\n",
       "      <td>1fbe01fe</td>\n",
       "      <td>3</td>\n",
       "      <td>28905ebd</td>\n",
       "      <td>1</td>\n",
       "      <td>1</td>\n",
       "      <td>1</td>\n",
       "      <td>a99f214a</td>\n",
       "      <td>...</td>\n",
       "      <td>1005</td>\n",
       "      <td>22676</td>\n",
       "      <td>320</td>\n",
       "      <td>50</td>\n",
       "      <td>2616</td>\n",
       "      <td>0</td>\n",
       "      <td>35</td>\n",
       "      <td>NaN</td>\n",
       "      <td>51</td>\n",
       "      <td>0</td>\n",
       "    </tr>\n",
       "    <tr>\n",
       "      <th>1999997</th>\n",
       "      <td>9995700942528439110</td>\n",
       "      <td>1414710000</td>\n",
       "      <td>0</td>\n",
       "      <td>85f751fd</td>\n",
       "      <td>7</td>\n",
       "      <td>50e219e0</td>\n",
       "      <td>65</td>\n",
       "      <td>2</td>\n",
       "      <td>2</td>\n",
       "      <td>a99f214a</td>\n",
       "      <td>...</td>\n",
       "      <td>1005</td>\n",
       "      <td>23725</td>\n",
       "      <td>320</td>\n",
       "      <td>50</td>\n",
       "      <td>2716</td>\n",
       "      <td>3</td>\n",
       "      <td>47</td>\n",
       "      <td>100217.0</td>\n",
       "      <td>23</td>\n",
       "      <td>0</td>\n",
       "    </tr>\n",
       "    <tr>\n",
       "      <th>1999998</th>\n",
       "      <td>9997782484512570704</td>\n",
       "      <td>1414710000</td>\n",
       "      <td>1</td>\n",
       "      <td>85f751fd</td>\n",
       "      <td>7</td>\n",
       "      <td>50e219e0</td>\n",
       "      <td>231</td>\n",
       "      <td>2</td>\n",
       "      <td>3</td>\n",
       "      <td>e5ad704a</td>\n",
       "      <td>...</td>\n",
       "      <td>1005</td>\n",
       "      <td>23644</td>\n",
       "      <td>300</td>\n",
       "      <td>50</td>\n",
       "      <td>2709</td>\n",
       "      <td>3</td>\n",
       "      <td>39</td>\n",
       "      <td>100013.0</td>\n",
       "      <td>23</td>\n",
       "      <td>0</td>\n",
       "    </tr>\n",
       "  </tbody>\n",
       "</table>\n",
       "<p>1999999 rows × 24 columns</p>\n",
       "</div>"
      ],
      "text/plain": [
       "                           id  unix_timestamp  ui_component_position  \\\n",
       "0        10000679056417042096      1413849600                      1   \n",
       "1        10010730108771379386      1413849600                      1   \n",
       "2        10017325201002992404      1413849600                      0   \n",
       "3        10018897422996679694      1413849600                      1   \n",
       "4        10024660782388112342      1413849600                      1   \n",
       "...                       ...             ...                    ...   \n",
       "1999994   9985626755387297314      1414710000                      1   \n",
       "1999995   9987260269049664739      1414710000                      0   \n",
       "1999996   9989166246566057980      1414710000                      0   \n",
       "1999997   9995700942528439110      1414710000                      0   \n",
       "1999998   9997782484512570704      1414710000                      1   \n",
       "\n",
       "          site_id  site_domain site_category  app_id  app_domain  \\\n",
       "0        fe8cc448            1      0569f928       1           1   \n",
       "1        e151e245            2      f028772b       1           1   \n",
       "2        1fbe01fe            3      28905ebd       1           1   \n",
       "3        e151e245            2      f028772b       1           1   \n",
       "4        d9750ee7            4      f028772b       1           1   \n",
       "...           ...          ...           ...     ...         ...   \n",
       "1999994  e151e245            2      f028772b       1           1   \n",
       "1999995  85f751fd            7      50e219e0       5           4   \n",
       "1999996  1fbe01fe            3      28905ebd       1           1   \n",
       "1999997  85f751fd            7      50e219e0      65           2   \n",
       "1999998  85f751fd            7      50e219e0     231           2   \n",
       "\n",
       "         app_category device_id  ...    f0     f1   f2  f3    f4  f5    f6  \\\n",
       "0                   1  a99f214a  ...  1005  18993  320  50  2161   0    35   \n",
       "1                   1  a99f214a  ...  1005  20634  320  50  2374   3    39   \n",
       "2                   1  a99f214a  ...  1005  15705  320  50  1722   0    35   \n",
       "3                   1  a99f214a  ...  1005  20366  320  50  2333   0    39   \n",
       "4                   1  a99f214a  ...  1005  17614  320  50  1993   2  1063   \n",
       "...               ...       ...  ...   ...    ...  ...  ..   ...  ..   ...   \n",
       "1999994             1  a99f214a  ...  1005  17037  320  50  1934   2    39   \n",
       "1999995             3  c7a43d7c  ...  1005  20632  320  50  2374   3    39   \n",
       "1999996             1  a99f214a  ...  1005  22676  320  50  2616   0    35   \n",
       "1999997             2  a99f214a  ...  1005  23725  320  50  2716   3    47   \n",
       "1999998             3  e5ad704a  ...  1005  23644  300  50  2709   3    39   \n",
       "\n",
       "               f7   f8  click  \n",
       "0             NaN  157      0  \n",
       "1             NaN   23      0  \n",
       "2             NaN   79      1  \n",
       "3             NaN  157      0  \n",
       "4        100083.0   33      1  \n",
       "...           ...  ...    ...  \n",
       "1999994       NaN   16      0  \n",
       "1999995       NaN   23      0  \n",
       "1999996       NaN   51      0  \n",
       "1999997  100217.0   23      0  \n",
       "1999998  100013.0   23      0  \n",
       "\n",
       "[1999999 rows x 24 columns]"
      ]
     },
     "execution_count": 158,
     "metadata": {},
     "output_type": "execute_result"
    }
   ],
   "source": [
    "data[\"device_model\"]=data[\"device_model\"].map(map_function(\"device_model\"))\n",
    "data[\"site_domain\"]=data[\"site_domain\"].map(map_function(\"site_domain\"))\n",
    "data[\"app_id\"]=data[\"app_id\"].map(map_function(\"app_id\"))\n",
    "data[\"app_domain\"]=data[\"app_domain\"].map(map_function(\"app_domain\"))\n",
    "data[\"app_category\"]=data[\"app_category\"].map(map_function(\"app_category\"))\n",
    "\n",
    "data"
   ]
  },
  {
   "cell_type": "code",
   "execution_count": 159,
   "id": "0968154b",
   "metadata": {},
   "outputs": [
    {
     "data": {
      "text/plain": [
       "1      1346893\n",
       "2       259372\n",
       "13       93280\n",
       "4        56108\n",
       "5        37418\n",
       "        ...   \n",
       "174          1\n",
       "171          1\n",
       "165          1\n",
       "164          1\n",
       "252          1\n",
       "Name: app_domain, Length: 252, dtype: int64"
      ]
     },
     "execution_count": 159,
     "metadata": {},
     "output_type": "execute_result"
    }
   ],
   "source": [
    "data[\"app_domain\"].value_counts()"
   ]
  },
  {
   "cell_type": "code",
   "execution_count": null,
   "id": "c74d3ca1",
   "metadata": {},
   "outputs": [],
   "source": []
  },
  {
   "cell_type": "code",
   "execution_count": 160,
   "id": "437235b9",
   "metadata": {},
   "outputs": [
    {
     "name": "stdout",
     "output_type": "stream",
     "text": [
      "         ui_component_position  device_type  device_model  site_domain  \\\n",
      "4                            1            1             5            4   \n",
      "5                            0            1             6            3   \n",
      "6                            0            0             7            5   \n",
      "13                           0            1            14            7   \n",
      "14                           0            0            15            7   \n",
      "...                        ...          ...           ...          ...   \n",
      "1999988                      0            1            81            3   \n",
      "1999991                      0            1            47           14   \n",
      "1999993                      0            1            87            3   \n",
      "1999997                      0            1           301            7   \n",
      "1999998                      1            1          1360            7   \n",
      "\n",
      "         app_id  app_domain  app_category  device_conn_type    f0     f1   f2  \\\n",
      "4             1           1             1                 0  1005  17614  320   \n",
      "5             1           1             1                 0  1005  15701  320   \n",
      "6             1           1             1                 0  1002  20170  300   \n",
      "13            4           3             3                 0  1005  20751  320   \n",
      "14            1           1             1                 0  1002  21660  320   \n",
      "...         ...         ...           ...               ...   ...    ...  ...   \n",
      "1999988       1           1             1                 2  1005  22261  320   \n",
      "1999991       1           1             1                 0  1005  19016  300   \n",
      "1999993       1           1             1                 0  1005  22676  320   \n",
      "1999997      65           2             2                 0  1005  23725  320   \n",
      "1999998     231           2             3                 0  1005  23644  300   \n",
      "\n",
      "          f3    f4  f5    f6        f7  \n",
      "4         50  1993   2  1063  100083.0  \n",
      "5         50  1722   0    35  100083.0  \n",
      "6         50  2312   0   167  100075.0  \n",
      "13        50  1895   0   681  100028.0  \n",
      "14        50  2446   3   171  100228.0  \n",
      "...      ...   ...  ..   ...       ...  \n",
      "1999988   50  2545   0   431  100084.0  \n",
      "1999991  250  2162   2    39  100155.0  \n",
      "1999993   50  2616   0    35  100084.0  \n",
      "1999997   50  2716   3    47  100217.0  \n",
      "1999998   50  2709   3    39  100013.0  \n",
      "\n",
      "[1062756 rows x 16 columns]\n"
     ]
    }
   ],
   "source": [
    "# Droping the id, site_id, site_category, device_id columns since they contain categorical variables with too many categories.\n",
    "# Using pd.get_dummies to categorize them will require more computation power and will also create too many columns.\n",
    "\n",
    "data = data.dropna()\n",
    "X = data[['ui_component_position', 'device_type','device_model','site_domain',\"app_id\",\"app_domain\", \"app_category\",\n",
    "       'device_conn_type', 'f0', 'f1', 'f2', 'f3', 'f4', 'f5', 'f6', 'f7']]\n",
    "y = data.click.values\n",
    "\n",
    "print(X)"
   ]
  },
  {
   "cell_type": "markdown",
   "id": "7d0f0feb",
   "metadata": {},
   "source": [
    "### Apply random oversampling to balance classes"
   ]
  },
  {
   "cell_type": "code",
   "execution_count": 161,
   "id": "77db2b03",
   "metadata": {},
   "outputs": [],
   "source": [
    "#!pip install imblearn"
   ]
  },
  {
   "cell_type": "code",
   "execution_count": 162,
   "id": "e56522ad",
   "metadata": {},
   "outputs": [
    {
     "name": "stdout",
     "output_type": "stream",
     "text": [
      "Counter({0: 904128, 1: 158628})\n",
      "Counter({0: 904128, 1: 452064})\n"
     ]
    }
   ],
   "source": [
    "from imblearn.over_sampling import RandomOverSampler\n",
    "from imblearn.under_sampling import RandomUnderSampler\n",
    "from collections import Counter\n",
    "\n",
    "# Oversampling the under representated class by bringing the ratio of classes to 1:2\n",
    "\n",
    "print(Counter(y))\n",
    "\n",
    "oversample = RandomOverSampler(sampling_strategy=0.5)\n",
    "#undersample = RandomUnderSampler(sampling_strategy='majority')\n",
    "X_over, y_over = oversample.fit_resample(X, y)\n",
    "print(Counter(y_over))"
   ]
  },
  {
   "cell_type": "markdown",
   "id": "28f64751",
   "metadata": {},
   "source": [
    "### Train Test Data Preparation"
   ]
  },
  {
   "cell_type": "code",
   "execution_count": 163,
   "id": "574bcad0",
   "metadata": {},
   "outputs": [],
   "source": [
    "import sklearn.model_selection\n",
    "\n",
    "# Split data into 80% training and 20% testing\n",
    "\n",
    "x_train, x_test, y_train, y_test = sklearn.model_selection.train_test_split(X_over, y_over, test_size=0.2, random_state=5)"
   ]
  },
  {
   "cell_type": "code",
   "execution_count": 164,
   "id": "c8a81514",
   "metadata": {},
   "outputs": [
    {
     "name": "stdout",
     "output_type": "stream",
     "text": [
      "(1084953, 16)\n",
      "(1084953,)\n",
      "(271239, 16)\n",
      "(271239,)\n"
     ]
    }
   ],
   "source": [
    "print(x_train.shape)\n",
    "print(y_train.shape)\n",
    "print(x_test.shape)\n",
    "print(y_test.shape)"
   ]
  },
  {
   "cell_type": "code",
   "execution_count": 165,
   "id": "1a0ff6e7",
   "metadata": {},
   "outputs": [],
   "source": [
    "### Normalizing only the x_train data to prevent data leakage\n",
    "#x_train = preprocessing.normalize(x_train)"
   ]
  },
  {
   "cell_type": "code",
   "execution_count": null,
   "id": "d7d5551e",
   "metadata": {},
   "outputs": [],
   "source": []
  },
  {
   "cell_type": "markdown",
   "id": "1a42c458",
   "metadata": {},
   "source": [
    "### Decision Tree Classifier"
   ]
  },
  {
   "cell_type": "code",
   "execution_count": 166,
   "id": "ea994eec",
   "metadata": {},
   "outputs": [],
   "source": [
    "### We will first use the simple decision tree classifier model to model the data\n",
    "from sklearn.tree import DecisionTreeClassifier\n",
    "from sklearn.metrics import confusion_matrix, accuracy_score, roc_auc_score, classification_report"
   ]
  },
  {
   "cell_type": "code",
   "execution_count": 167,
   "id": "c59fdf51",
   "metadata": {},
   "outputs": [
    {
     "data": {
      "text/plain": [
       "DecisionTreeClassifier()"
      ]
     },
     "execution_count": 167,
     "metadata": {},
     "output_type": "execute_result"
    }
   ],
   "source": [
    "dtc = DecisionTreeClassifier()\n",
    "dtc.fit(x_train, y_train)"
   ]
  },
  {
   "cell_type": "code",
   "execution_count": 168,
   "id": "a8cbf6ed",
   "metadata": {},
   "outputs": [],
   "source": [
    "y_predict = dtc.predict(x_test)"
   ]
  },
  {
   "cell_type": "code",
   "execution_count": 169,
   "id": "a46bb254",
   "metadata": {},
   "outputs": [
    {
     "data": {
      "text/plain": [
       "0.7734322866549427"
      ]
     },
     "execution_count": 169,
     "metadata": {},
     "output_type": "execute_result"
    }
   ],
   "source": [
    "# Use the accuracy to measure the performance of the model\n",
    "accuracy_score(y_test, y_predict)\n"
   ]
  },
  {
   "cell_type": "markdown",
   "id": "8c354749",
   "metadata": {},
   "source": [
    "The accuracy score is about 77%, which is a good score. However the accuracy metric is not a good measure for the model performance, since there is class imbalance. The model can be bias and mostly predict the over represented class and the accuracy score of the model will still be high. A good metric to measure the performance of the model in this instance is the AUC (Area under the Curve) metric and also the AUC-ROC (Area Under the ROC Curve). A good classifier model should have an AUC-score which is close to 1, and bad classifier model which randomly classifies (poor classifier) should have an AUC-score close to 0.5. Also the confusion matrix and f1-score are good metrics to use, since they can both show you how well the model is able to predict the under represented class. An f1-score close to 1 also indicates a good classifier model, this shows that the model is able to fairly balance the prediction of both the binary classes (under represented and over represented classes)"
   ]
  },
  {
   "cell_type": "markdown",
   "id": "2971c2f8",
   "metadata": {},
   "source": [
    "### AUC (Area Under the Curve) "
   ]
  },
  {
   "cell_type": "code",
   "execution_count": 170,
   "id": "6bc11a5e",
   "metadata": {},
   "outputs": [
    {
     "name": "stdout",
     "output_type": "stream",
     "text": [
      "Area Under the Curve 0.7410309912714917\n"
     ]
    }
   ],
   "source": [
    "from sklearn.metrics import roc_curve, auc\n",
    "\n",
    "false_positive_rate, true_positive_rate, thresholds = roc_curve(y_test, y_predict)\n",
    "auc_1 = auc(false_positive_rate, true_positive_rate)\n",
    "print(\"Area Under the Curve\",auc_1)"
   ]
  },
  {
   "cell_type": "code",
   "execution_count": 171,
   "id": "9df152e3",
   "metadata": {},
   "outputs": [
    {
     "name": "stdout",
     "output_type": "stream",
     "text": [
      "Area Under the ROC-Curve 0.8445939893032378\n"
     ]
    }
   ],
   "source": [
    "y_prob = dtc.predict_proba(x_test)[:,1]\n",
    "roc_auc_score_1 = roc_auc_score(y_test, y_prob)\n",
    "print(\"Area Under the ROC-Curve\", roc_auc_score_1)"
   ]
  },
  {
   "cell_type": "markdown",
   "id": "c307b055",
   "metadata": {},
   "source": [
    "### Confusion Matrix\n"
   ]
  },
  {
   "cell_type": "code",
   "execution_count": 172,
   "id": "953defe2",
   "metadata": {},
   "outputs": [
    {
     "data": {
      "text/html": [
       "<div>\n",
       "<style scoped>\n",
       "    .dataframe tbody tr th:only-of-type {\n",
       "        vertical-align: middle;\n",
       "    }\n",
       "\n",
       "    .dataframe tbody tr th {\n",
       "        vertical-align: top;\n",
       "    }\n",
       "\n",
       "    .dataframe thead th {\n",
       "        text-align: right;\n",
       "    }\n",
       "</style>\n",
       "<table border=\"1\" class=\"dataframe\">\n",
       "  <thead>\n",
       "    <tr style=\"text-align: right;\">\n",
       "      <th></th>\n",
       "      <th>Predicted not clicked</th>\n",
       "      <th>predicted_clicked</th>\n",
       "    </tr>\n",
       "  </thead>\n",
       "  <tbody>\n",
       "    <tr>\n",
       "      <th>Actual not clicked</th>\n",
       "      <td>151585</td>\n",
       "      <td>29264</td>\n",
       "    </tr>\n",
       "    <tr>\n",
       "      <th>Actual clicked</th>\n",
       "      <td>32190</td>\n",
       "      <td>58200</td>\n",
       "    </tr>\n",
       "  </tbody>\n",
       "</table>\n",
       "</div>"
      ],
      "text/plain": [
       "                    Predicted not clicked  predicted_clicked\n",
       "Actual not clicked                 151585              29264\n",
       "Actual clicked                      32190              58200"
      ]
     },
     "execution_count": 172,
     "metadata": {},
     "output_type": "execute_result"
    }
   ],
   "source": [
    "pd.DataFrame(\n",
    "   confusion_matrix(y_test, y_predict),\n",
    "   columns = ['Predicted not clicked', \"predicted_clicked\"],\n",
    "   index = ['Actual not clicked', \"Actual clicked\"]\n",
    ")"
   ]
  },
  {
   "cell_type": "markdown",
   "id": "4e22b578",
   "metadata": {},
   "source": [
    "### Classification Report"
   ]
  },
  {
   "cell_type": "code",
   "execution_count": 173,
   "id": "c97ecd1f",
   "metadata": {},
   "outputs": [
    {
     "name": "stdout",
     "output_type": "stream",
     "text": [
      "              precision    recall  f1-score   support\n",
      "\n",
      "           0       0.82      0.84      0.83    180849\n",
      "           1       0.67      0.64      0.65     90390\n",
      "\n",
      "    accuracy                           0.77    271239\n",
      "   macro avg       0.75      0.74      0.74    271239\n",
      "weighted avg       0.77      0.77      0.77    271239\n",
      "\n"
     ]
    }
   ],
   "source": [
    "print(classification_report(y_test, y_predict))"
   ]
  },
  {
   "cell_type": "markdown",
   "id": "6e086fe8",
   "metadata": {},
   "source": [
    "### Decision Tree Classifier Model Visualization and Architecture Description"
   ]
  },
  {
   "cell_type": "code",
   "execution_count": null,
   "id": "5057bb3d",
   "metadata": {},
   "outputs": [],
   "source": [
    "tree.plot_tree(dtc)\n",
    "plt.show()"
   ]
  },
  {
   "cell_type": "markdown",
   "id": "60f996ae",
   "metadata": {},
   "source": [
    "### Hyperparameter Tuning with Grid Search"
   ]
  },
  {
   "cell_type": "code",
   "execution_count": 174,
   "id": "07465d86",
   "metadata": {},
   "outputs": [
    {
     "data": {
      "text/plain": [
       "GridSearchCV(estimator=DecisionTreeClassifier(),\n",
       "             param_grid={'criterion': ['gini', 'entropy'],\n",
       "                         'max_depth': [5, 6, 7, 8, 9, 10, 11, 12, 13, 14, 15,\n",
       "                                       20, 50, 100, None]})"
      ]
     },
     "execution_count": 174,
     "metadata": {},
     "output_type": "execute_result"
    }
   ],
   "source": [
    "from sklearn.model_selection import RandomizedSearchCV\n",
    "from sklearn.model_selection import GridSearchCV\n",
    "\n",
    "#A decision tree model is just one tree.\n",
    "#Max-depth represent the depth of a single tree.\n",
    "#Criterion represents the functions that can be used to measure the quality of the leaf splits.\n",
    "\n",
    "parameters = {'max_depth':[5,6,7,8,9, 10,11,12,13,14,15, 20, 50, 100, None], \n",
    "              \"criterion\":[\"gini\", \"entropy\"]}\n",
    "\n",
    "dtc = DecisionTreeClassifier()\n",
    "grid_search = GridSearchCV(dtc, parameters)\n",
    "grid_search.fit(x_train, y_train)"
   ]
  },
  {
   "cell_type": "code",
   "execution_count": 175,
   "id": "6d708186",
   "metadata": {},
   "outputs": [
    {
     "name": "stdout",
     "output_type": "stream",
     "text": [
      "{'criterion': 'entropy', 'max_depth': None}\n"
     ]
    }
   ],
   "source": [
    "print(grid_search.best_params_)"
   ]
  },
  {
   "cell_type": "code",
   "execution_count": 176,
   "id": "2266ac6f",
   "metadata": {},
   "outputs": [
    {
     "name": "stdout",
     "output_type": "stream",
     "text": [
      "Area Under Curve  Score: 0.7409314079617432\n"
     ]
    }
   ],
   "source": [
    "decision_tree_best = grid_search.best_estimator_\n",
    "\n",
    "y_predict = decision_tree_best.predict(x_test)\n",
    "\n",
    "false_positive_rate, true_positive_rate, thresholds = roc_curve(y_test, y_predict)\n",
    "\n",
    "grid_auc_socre = auc(false_positive_rate, true_positive_rate)\n",
    "print(\"Area Under Curve  Score:\",grid_auc_socre)"
   ]
  },
  {
   "cell_type": "code",
   "execution_count": 177,
   "id": "497b74d7",
   "metadata": {},
   "outputs": [
    {
     "name": "stdout",
     "output_type": "stream",
     "text": [
      "Area Under ROC Curve: 0.8445321293813605\n"
     ]
    }
   ],
   "source": [
    "y_predict_proba = decision_tree_best.predict_proba(x_test)[:,1]\n",
    "grid_auc = roc_auc_score(y_test, y_predict_proba)\n",
    "print(\"Area Under ROC Curve:\",grid_auc)"
   ]
  },
  {
   "cell_type": "code",
   "execution_count": 178,
   "id": "b97bd82b",
   "metadata": {},
   "outputs": [
    {
     "name": "stdout",
     "output_type": "stream",
     "text": [
      "Accuracy: 0.7733917320149388\n"
     ]
    }
   ],
   "source": [
    "print(\"Accuracy:\",accuracy_score(y_test, y_predict))"
   ]
  },
  {
   "cell_type": "code",
   "execution_count": 179,
   "id": "e725b4d1",
   "metadata": {},
   "outputs": [
    {
     "name": "stdout",
     "output_type": "stream",
     "text": [
      "              precision    recall  f1-score   support\n",
      "\n",
      "           0       0.82      0.84      0.83    180849\n",
      "           1       0.67      0.64      0.65     90390\n",
      "\n",
      "    accuracy                           0.77    271239\n",
      "   macro avg       0.75      0.74      0.74    271239\n",
      "weighted avg       0.77      0.77      0.77    271239\n",
      "\n"
     ]
    }
   ],
   "source": [
    "print(classification_report(y_test, y_predict))"
   ]
  },
  {
   "cell_type": "markdown",
   "id": "ac479a8b",
   "metadata": {},
   "source": [
    "### Decision Tree Classifier Model Visualization and Architecture Description"
   ]
  },
  {
   "cell_type": "code",
   "execution_count": null,
   "id": "2092140b",
   "metadata": {},
   "outputs": [],
   "source": [
    "tree.plot_tree(decision_tree_best)\n",
    "plt.show()"
   ]
  },
  {
   "cell_type": "markdown",
   "id": "28a96503",
   "metadata": {},
   "source": [
    "### Text Model Structure"
   ]
  },
  {
   "cell_type": "code",
   "execution_count": null,
   "id": "ee7b4589",
   "metadata": {},
   "outputs": [],
   "source": [
    "text_model_architecture = tree.export_text(decision_tree_best)\n",
    "print(text_model_architecture)"
   ]
  },
  {
   "cell_type": "markdown",
   "id": "788ce73c",
   "metadata": {},
   "source": [
    "### Random Forest"
   ]
  },
  {
   "cell_type": "code",
   "execution_count": 180,
   "id": "2afc9ca6",
   "metadata": {},
   "outputs": [
    {
     "data": {
      "text/plain": [
       "RandomForestClassifier(random_state=1)"
      ]
     },
     "execution_count": 180,
     "metadata": {},
     "output_type": "execute_result"
    }
   ],
   "source": [
    "from sklearn.ensemble import RandomForestClassifier\n",
    "\n",
    "rfc = RandomForestClassifier(random_state=1)\n",
    "rfc.fit(x_train,y_train)"
   ]
  },
  {
   "cell_type": "code",
   "execution_count": 181,
   "id": "777eab5e",
   "metadata": {},
   "outputs": [
    {
     "name": "stdout",
     "output_type": "stream",
     "text": [
      "accuracy_score 0.7822916321030531\n"
     ]
    }
   ],
   "source": [
    "y_predict = rfc.predict(x_test)\n",
    "print(\"accuracy_score\",accuracy_score(y_test, y_predict))"
   ]
  },
  {
   "cell_type": "markdown",
   "id": "8aed4950",
   "metadata": {},
   "source": [
    "### AUC (Area Under the Curve)"
   ]
  },
  {
   "cell_type": "code",
   "execution_count": 182,
   "id": "8c5fc172",
   "metadata": {},
   "outputs": [
    {
     "name": "stdout",
     "output_type": "stream",
     "text": [
      "AUC-score 0.7514790712119963\n"
     ]
    }
   ],
   "source": [
    "false_positive_rate, true_positive_rate, thresholds = roc_curve(y_test, y_predict)\n",
    "rfc_roc_auc = auc(false_positive_rate, true_positive_rate)\n",
    "print(\"AUC-score\",rfc_roc_auc)\n"
   ]
  },
  {
   "cell_type": "code",
   "execution_count": 186,
   "id": "ddfbec5c",
   "metadata": {},
   "outputs": [
    {
     "name": "stdout",
     "output_type": "stream",
     "text": [
      "Area Under ROC Curve: 0.8553290328088788\n"
     ]
    }
   ],
   "source": [
    "y_predict_proba = rfc.predict_proba(x_test)[:,1]\n",
    "rfc_auc_1 = roc_auc_score(y_test, y_predict_proba)\n",
    "print(\"Area Under ROC Curve:\",rfc_auc_1)"
   ]
  },
  {
   "cell_type": "markdown",
   "id": "db7eb519",
   "metadata": {},
   "source": [
    "### Confusion Matrix"
   ]
  },
  {
   "cell_type": "code",
   "execution_count": 183,
   "id": "fb63523f",
   "metadata": {},
   "outputs": [
    {
     "data": {
      "text/html": [
       "<div>\n",
       "<style scoped>\n",
       "    .dataframe tbody tr th:only-of-type {\n",
       "        vertical-align: middle;\n",
       "    }\n",
       "\n",
       "    .dataframe tbody tr th {\n",
       "        vertical-align: top;\n",
       "    }\n",
       "\n",
       "    .dataframe thead th {\n",
       "        text-align: right;\n",
       "    }\n",
       "</style>\n",
       "<table border=\"1\" class=\"dataframe\">\n",
       "  <thead>\n",
       "    <tr style=\"text-align: right;\">\n",
       "      <th></th>\n",
       "      <th>Predicted not clicked</th>\n",
       "      <th>predicted_clicked</th>\n",
       "    </tr>\n",
       "  </thead>\n",
       "  <tbody>\n",
       "    <tr>\n",
       "      <th>Actual not clicked</th>\n",
       "      <td>152613</td>\n",
       "      <td>28236</td>\n",
       "    </tr>\n",
       "    <tr>\n",
       "      <th>Actual clicked</th>\n",
       "      <td>30815</td>\n",
       "      <td>59575</td>\n",
       "    </tr>\n",
       "  </tbody>\n",
       "</table>\n",
       "</div>"
      ],
      "text/plain": [
       "                    Predicted not clicked  predicted_clicked\n",
       "Actual not clicked                 152613              28236\n",
       "Actual clicked                      30815              59575"
      ]
     },
     "execution_count": 183,
     "metadata": {},
     "output_type": "execute_result"
    }
   ],
   "source": [
    "pd.DataFrame(\n",
    "   confusion_matrix(y_test, y_predict),\n",
    "   columns = ['Predicted not clicked', \"predicted_clicked\"],\n",
    "   index = ['Actual not clicked', \"Actual clicked\"]\n",
    ")"
   ]
  },
  {
   "cell_type": "markdown",
   "id": "2f33b48a",
   "metadata": {},
   "source": [
    "### Classification Report"
   ]
  },
  {
   "cell_type": "code",
   "execution_count": 184,
   "id": "7a15a620",
   "metadata": {},
   "outputs": [
    {
     "name": "stdout",
     "output_type": "stream",
     "text": [
      "              precision    recall  f1-score   support\n",
      "\n",
      "           0       0.83      0.84      0.84    180849\n",
      "           1       0.68      0.66      0.67     90390\n",
      "\n",
      "    accuracy                           0.78    271239\n",
      "   macro avg       0.76      0.75      0.75    271239\n",
      "weighted avg       0.78      0.78      0.78    271239\n",
      "\n"
     ]
    }
   ],
   "source": [
    "print(classification_report(y_test, y_predict))"
   ]
  },
  {
   "cell_type": "markdown",
   "id": "5808b8b8",
   "metadata": {},
   "source": [
    "### Hyperparameter Tuning"
   ]
  },
  {
   "cell_type": "code",
   "execution_count": 132,
   "id": "627d60ed",
   "metadata": {},
   "outputs": [
    {
     "name": "stdout",
     "output_type": "stream",
     "text": [
      "Fitting 2 folds for each of 500 candidates, totalling 1000 fits\n"
     ]
    },
    {
     "ename": "KeyboardInterrupt",
     "evalue": "",
     "output_type": "error",
     "traceback": [
      "\u001b[1;31m---------------------------------------------------------------------------\u001b[0m",
      "\u001b[1;31mKeyboardInterrupt\u001b[0m                         Traceback (most recent call last)",
      "\u001b[1;32m<ipython-input-132-0b22ee8c8805>\u001b[0m in \u001b[0;36m<module>\u001b[1;34m\u001b[0m\n\u001b[0;32m     16\u001b[0m grid_search = GridSearchCV(rfc, parameters, cv = 2, verbose = 1, \n\u001b[0;32m     17\u001b[0m                       n_jobs = -1)\n\u001b[1;32m---> 18\u001b[1;33m \u001b[0mgrid_search\u001b[0m\u001b[1;33m.\u001b[0m\u001b[0mfit\u001b[0m\u001b[1;33m(\u001b[0m\u001b[0mx_train\u001b[0m\u001b[1;33m,\u001b[0m \u001b[0my_train\u001b[0m\u001b[1;33m)\u001b[0m\u001b[1;33m\u001b[0m\u001b[1;33m\u001b[0m\u001b[0m\n\u001b[0m",
      "\u001b[1;32m~\\anaconda3\\lib\\site-packages\\sklearn\\utils\\validation.py\u001b[0m in \u001b[0;36minner_f\u001b[1;34m(*args, **kwargs)\u001b[0m\n\u001b[0;32m     61\u001b[0m             \u001b[0mextra_args\u001b[0m \u001b[1;33m=\u001b[0m \u001b[0mlen\u001b[0m\u001b[1;33m(\u001b[0m\u001b[0margs\u001b[0m\u001b[1;33m)\u001b[0m \u001b[1;33m-\u001b[0m \u001b[0mlen\u001b[0m\u001b[1;33m(\u001b[0m\u001b[0mall_args\u001b[0m\u001b[1;33m)\u001b[0m\u001b[1;33m\u001b[0m\u001b[1;33m\u001b[0m\u001b[0m\n\u001b[0;32m     62\u001b[0m             \u001b[1;32mif\u001b[0m \u001b[0mextra_args\u001b[0m \u001b[1;33m<=\u001b[0m \u001b[1;36m0\u001b[0m\u001b[1;33m:\u001b[0m\u001b[1;33m\u001b[0m\u001b[1;33m\u001b[0m\u001b[0m\n\u001b[1;32m---> 63\u001b[1;33m                 \u001b[1;32mreturn\u001b[0m \u001b[0mf\u001b[0m\u001b[1;33m(\u001b[0m\u001b[1;33m*\u001b[0m\u001b[0margs\u001b[0m\u001b[1;33m,\u001b[0m \u001b[1;33m**\u001b[0m\u001b[0mkwargs\u001b[0m\u001b[1;33m)\u001b[0m\u001b[1;33m\u001b[0m\u001b[1;33m\u001b[0m\u001b[0m\n\u001b[0m\u001b[0;32m     64\u001b[0m \u001b[1;33m\u001b[0m\u001b[0m\n\u001b[0;32m     65\u001b[0m             \u001b[1;31m# extra_args > 0\u001b[0m\u001b[1;33m\u001b[0m\u001b[1;33m\u001b[0m\u001b[1;33m\u001b[0m\u001b[0m\n",
      "\u001b[1;32m~\\anaconda3\\lib\\site-packages\\sklearn\\model_selection\\_search.py\u001b[0m in \u001b[0;36mfit\u001b[1;34m(self, X, y, groups, **fit_params)\u001b[0m\n\u001b[0;32m    839\u001b[0m                 \u001b[1;32mreturn\u001b[0m \u001b[0mresults\u001b[0m\u001b[1;33m\u001b[0m\u001b[1;33m\u001b[0m\u001b[0m\n\u001b[0;32m    840\u001b[0m \u001b[1;33m\u001b[0m\u001b[0m\n\u001b[1;32m--> 841\u001b[1;33m             \u001b[0mself\u001b[0m\u001b[1;33m.\u001b[0m\u001b[0m_run_search\u001b[0m\u001b[1;33m(\u001b[0m\u001b[0mevaluate_candidates\u001b[0m\u001b[1;33m)\u001b[0m\u001b[1;33m\u001b[0m\u001b[1;33m\u001b[0m\u001b[0m\n\u001b[0m\u001b[0;32m    842\u001b[0m \u001b[1;33m\u001b[0m\u001b[0m\n\u001b[0;32m    843\u001b[0m             \u001b[1;31m# multimetric is determined here because in the case of a callable\u001b[0m\u001b[1;33m\u001b[0m\u001b[1;33m\u001b[0m\u001b[1;33m\u001b[0m\u001b[0m\n",
      "\u001b[1;32m~\\anaconda3\\lib\\site-packages\\sklearn\\model_selection\\_search.py\u001b[0m in \u001b[0;36m_run_search\u001b[1;34m(self, evaluate_candidates)\u001b[0m\n\u001b[0;32m   1286\u001b[0m     \u001b[1;32mdef\u001b[0m \u001b[0m_run_search\u001b[0m\u001b[1;33m(\u001b[0m\u001b[0mself\u001b[0m\u001b[1;33m,\u001b[0m \u001b[0mevaluate_candidates\u001b[0m\u001b[1;33m)\u001b[0m\u001b[1;33m:\u001b[0m\u001b[1;33m\u001b[0m\u001b[1;33m\u001b[0m\u001b[0m\n\u001b[0;32m   1287\u001b[0m         \u001b[1;34m\"\"\"Search all candidates in param_grid\"\"\"\u001b[0m\u001b[1;33m\u001b[0m\u001b[1;33m\u001b[0m\u001b[0m\n\u001b[1;32m-> 1288\u001b[1;33m         \u001b[0mevaluate_candidates\u001b[0m\u001b[1;33m(\u001b[0m\u001b[0mParameterGrid\u001b[0m\u001b[1;33m(\u001b[0m\u001b[0mself\u001b[0m\u001b[1;33m.\u001b[0m\u001b[0mparam_grid\u001b[0m\u001b[1;33m)\u001b[0m\u001b[1;33m)\u001b[0m\u001b[1;33m\u001b[0m\u001b[1;33m\u001b[0m\u001b[0m\n\u001b[0m\u001b[0;32m   1289\u001b[0m \u001b[1;33m\u001b[0m\u001b[0m\n\u001b[0;32m   1290\u001b[0m \u001b[1;33m\u001b[0m\u001b[0m\n",
      "\u001b[1;32m~\\anaconda3\\lib\\site-packages\\sklearn\\model_selection\\_search.py\u001b[0m in \u001b[0;36mevaluate_candidates\u001b[1;34m(candidate_params, cv, more_results)\u001b[0m\n\u001b[0;32m    793\u001b[0m                               n_splits, n_candidates, n_candidates * n_splits))\n\u001b[0;32m    794\u001b[0m \u001b[1;33m\u001b[0m\u001b[0m\n\u001b[1;32m--> 795\u001b[1;33m                 out = parallel(delayed(_fit_and_score)(clone(base_estimator),\n\u001b[0m\u001b[0;32m    796\u001b[0m                                                        \u001b[0mX\u001b[0m\u001b[1;33m,\u001b[0m \u001b[0my\u001b[0m\u001b[1;33m,\u001b[0m\u001b[1;33m\u001b[0m\u001b[1;33m\u001b[0m\u001b[0m\n\u001b[0;32m    797\u001b[0m                                                        \u001b[0mtrain\u001b[0m\u001b[1;33m=\u001b[0m\u001b[0mtrain\u001b[0m\u001b[1;33m,\u001b[0m \u001b[0mtest\u001b[0m\u001b[1;33m=\u001b[0m\u001b[0mtest\u001b[0m\u001b[1;33m,\u001b[0m\u001b[1;33m\u001b[0m\u001b[1;33m\u001b[0m\u001b[0m\n",
      "\u001b[1;32m~\\anaconda3\\lib\\site-packages\\joblib\\parallel.py\u001b[0m in \u001b[0;36m__call__\u001b[1;34m(self, iterable)\u001b[0m\n\u001b[0;32m   1052\u001b[0m \u001b[1;33m\u001b[0m\u001b[0m\n\u001b[0;32m   1053\u001b[0m             \u001b[1;32mwith\u001b[0m \u001b[0mself\u001b[0m\u001b[1;33m.\u001b[0m\u001b[0m_backend\u001b[0m\u001b[1;33m.\u001b[0m\u001b[0mretrieval_context\u001b[0m\u001b[1;33m(\u001b[0m\u001b[1;33m)\u001b[0m\u001b[1;33m:\u001b[0m\u001b[1;33m\u001b[0m\u001b[1;33m\u001b[0m\u001b[0m\n\u001b[1;32m-> 1054\u001b[1;33m                 \u001b[0mself\u001b[0m\u001b[1;33m.\u001b[0m\u001b[0mretrieve\u001b[0m\u001b[1;33m(\u001b[0m\u001b[1;33m)\u001b[0m\u001b[1;33m\u001b[0m\u001b[1;33m\u001b[0m\u001b[0m\n\u001b[0m\u001b[0;32m   1055\u001b[0m             \u001b[1;31m# Make sure that we get a last message telling us we are done\u001b[0m\u001b[1;33m\u001b[0m\u001b[1;33m\u001b[0m\u001b[1;33m\u001b[0m\u001b[0m\n\u001b[0;32m   1056\u001b[0m             \u001b[0melapsed_time\u001b[0m \u001b[1;33m=\u001b[0m \u001b[0mtime\u001b[0m\u001b[1;33m.\u001b[0m\u001b[0mtime\u001b[0m\u001b[1;33m(\u001b[0m\u001b[1;33m)\u001b[0m \u001b[1;33m-\u001b[0m \u001b[0mself\u001b[0m\u001b[1;33m.\u001b[0m\u001b[0m_start_time\u001b[0m\u001b[1;33m\u001b[0m\u001b[1;33m\u001b[0m\u001b[0m\n",
      "\u001b[1;32m~\\anaconda3\\lib\\site-packages\\joblib\\parallel.py\u001b[0m in \u001b[0;36mretrieve\u001b[1;34m(self)\u001b[0m\n\u001b[0;32m    931\u001b[0m             \u001b[1;32mtry\u001b[0m\u001b[1;33m:\u001b[0m\u001b[1;33m\u001b[0m\u001b[1;33m\u001b[0m\u001b[0m\n\u001b[0;32m    932\u001b[0m                 \u001b[1;32mif\u001b[0m \u001b[0mgetattr\u001b[0m\u001b[1;33m(\u001b[0m\u001b[0mself\u001b[0m\u001b[1;33m.\u001b[0m\u001b[0m_backend\u001b[0m\u001b[1;33m,\u001b[0m \u001b[1;34m'supports_timeout'\u001b[0m\u001b[1;33m,\u001b[0m \u001b[1;32mFalse\u001b[0m\u001b[1;33m)\u001b[0m\u001b[1;33m:\u001b[0m\u001b[1;33m\u001b[0m\u001b[1;33m\u001b[0m\u001b[0m\n\u001b[1;32m--> 933\u001b[1;33m                     \u001b[0mself\u001b[0m\u001b[1;33m.\u001b[0m\u001b[0m_output\u001b[0m\u001b[1;33m.\u001b[0m\u001b[0mextend\u001b[0m\u001b[1;33m(\u001b[0m\u001b[0mjob\u001b[0m\u001b[1;33m.\u001b[0m\u001b[0mget\u001b[0m\u001b[1;33m(\u001b[0m\u001b[0mtimeout\u001b[0m\u001b[1;33m=\u001b[0m\u001b[0mself\u001b[0m\u001b[1;33m.\u001b[0m\u001b[0mtimeout\u001b[0m\u001b[1;33m)\u001b[0m\u001b[1;33m)\u001b[0m\u001b[1;33m\u001b[0m\u001b[1;33m\u001b[0m\u001b[0m\n\u001b[0m\u001b[0;32m    934\u001b[0m                 \u001b[1;32melse\u001b[0m\u001b[1;33m:\u001b[0m\u001b[1;33m\u001b[0m\u001b[1;33m\u001b[0m\u001b[0m\n\u001b[0;32m    935\u001b[0m                     \u001b[0mself\u001b[0m\u001b[1;33m.\u001b[0m\u001b[0m_output\u001b[0m\u001b[1;33m.\u001b[0m\u001b[0mextend\u001b[0m\u001b[1;33m(\u001b[0m\u001b[0mjob\u001b[0m\u001b[1;33m.\u001b[0m\u001b[0mget\u001b[0m\u001b[1;33m(\u001b[0m\u001b[1;33m)\u001b[0m\u001b[1;33m)\u001b[0m\u001b[1;33m\u001b[0m\u001b[1;33m\u001b[0m\u001b[0m\n",
      "\u001b[1;32m~\\anaconda3\\lib\\site-packages\\joblib\\_parallel_backends.py\u001b[0m in \u001b[0;36mwrap_future_result\u001b[1;34m(future, timeout)\u001b[0m\n\u001b[0;32m    540\u001b[0m         AsyncResults.get from multiprocessing.\"\"\"\n\u001b[0;32m    541\u001b[0m         \u001b[1;32mtry\u001b[0m\u001b[1;33m:\u001b[0m\u001b[1;33m\u001b[0m\u001b[1;33m\u001b[0m\u001b[0m\n\u001b[1;32m--> 542\u001b[1;33m             \u001b[1;32mreturn\u001b[0m \u001b[0mfuture\u001b[0m\u001b[1;33m.\u001b[0m\u001b[0mresult\u001b[0m\u001b[1;33m(\u001b[0m\u001b[0mtimeout\u001b[0m\u001b[1;33m=\u001b[0m\u001b[0mtimeout\u001b[0m\u001b[1;33m)\u001b[0m\u001b[1;33m\u001b[0m\u001b[1;33m\u001b[0m\u001b[0m\n\u001b[0m\u001b[0;32m    543\u001b[0m         \u001b[1;32mexcept\u001b[0m \u001b[0mCfTimeoutError\u001b[0m \u001b[1;32mas\u001b[0m \u001b[0me\u001b[0m\u001b[1;33m:\u001b[0m\u001b[1;33m\u001b[0m\u001b[1;33m\u001b[0m\u001b[0m\n\u001b[0;32m    544\u001b[0m             \u001b[1;32mraise\u001b[0m \u001b[0mTimeoutError\u001b[0m \u001b[1;32mfrom\u001b[0m \u001b[0me\u001b[0m\u001b[1;33m\u001b[0m\u001b[1;33m\u001b[0m\u001b[0m\n",
      "\u001b[1;32m~\\anaconda3\\lib\\concurrent\\futures\\_base.py\u001b[0m in \u001b[0;36mresult\u001b[1;34m(self, timeout)\u001b[0m\n\u001b[0;32m    432\u001b[0m                 \u001b[1;32mreturn\u001b[0m \u001b[0mself\u001b[0m\u001b[1;33m.\u001b[0m\u001b[0m__get_result\u001b[0m\u001b[1;33m(\u001b[0m\u001b[1;33m)\u001b[0m\u001b[1;33m\u001b[0m\u001b[1;33m\u001b[0m\u001b[0m\n\u001b[0;32m    433\u001b[0m \u001b[1;33m\u001b[0m\u001b[0m\n\u001b[1;32m--> 434\u001b[1;33m             \u001b[0mself\u001b[0m\u001b[1;33m.\u001b[0m\u001b[0m_condition\u001b[0m\u001b[1;33m.\u001b[0m\u001b[0mwait\u001b[0m\u001b[1;33m(\u001b[0m\u001b[0mtimeout\u001b[0m\u001b[1;33m)\u001b[0m\u001b[1;33m\u001b[0m\u001b[1;33m\u001b[0m\u001b[0m\n\u001b[0m\u001b[0;32m    435\u001b[0m \u001b[1;33m\u001b[0m\u001b[0m\n\u001b[0;32m    436\u001b[0m             \u001b[1;32mif\u001b[0m \u001b[0mself\u001b[0m\u001b[1;33m.\u001b[0m\u001b[0m_state\u001b[0m \u001b[1;32min\u001b[0m \u001b[1;33m[\u001b[0m\u001b[0mCANCELLED\u001b[0m\u001b[1;33m,\u001b[0m \u001b[0mCANCELLED_AND_NOTIFIED\u001b[0m\u001b[1;33m]\u001b[0m\u001b[1;33m:\u001b[0m\u001b[1;33m\u001b[0m\u001b[1;33m\u001b[0m\u001b[0m\n",
      "\u001b[1;32m~\\anaconda3\\lib\\threading.py\u001b[0m in \u001b[0;36mwait\u001b[1;34m(self, timeout)\u001b[0m\n\u001b[0;32m    300\u001b[0m         \u001b[1;32mtry\u001b[0m\u001b[1;33m:\u001b[0m    \u001b[1;31m# restore state no matter what (e.g., KeyboardInterrupt)\u001b[0m\u001b[1;33m\u001b[0m\u001b[1;33m\u001b[0m\u001b[0m\n\u001b[0;32m    301\u001b[0m             \u001b[1;32mif\u001b[0m \u001b[0mtimeout\u001b[0m \u001b[1;32mis\u001b[0m \u001b[1;32mNone\u001b[0m\u001b[1;33m:\u001b[0m\u001b[1;33m\u001b[0m\u001b[1;33m\u001b[0m\u001b[0m\n\u001b[1;32m--> 302\u001b[1;33m                 \u001b[0mwaiter\u001b[0m\u001b[1;33m.\u001b[0m\u001b[0macquire\u001b[0m\u001b[1;33m(\u001b[0m\u001b[1;33m)\u001b[0m\u001b[1;33m\u001b[0m\u001b[1;33m\u001b[0m\u001b[0m\n\u001b[0m\u001b[0;32m    303\u001b[0m                 \u001b[0mgotit\u001b[0m \u001b[1;33m=\u001b[0m \u001b[1;32mTrue\u001b[0m\u001b[1;33m\u001b[0m\u001b[1;33m\u001b[0m\u001b[0m\n\u001b[0;32m    304\u001b[0m             \u001b[1;32melse\u001b[0m\u001b[1;33m:\u001b[0m\u001b[1;33m\u001b[0m\u001b[1;33m\u001b[0m\u001b[0m\n",
      "\u001b[1;31mKeyboardInterrupt\u001b[0m: "
     ]
    }
   ],
   "source": [
    "# n_estimators represent the number of trees in a model or forest\n",
    "# max-depth is the depth allowed on each tree\n",
    "# min_samples_split represent the minimum number of splits allowed in a single leaf or node\n",
    "# min_samples_leaf represents the minimum number of samples allowed on each leaf or node\n",
    "\n",
    "n_estimators = [100, 300, 500, 800, 1000]\n",
    "max_depth = [5, 8, 15, 25, 30]\n",
    "min_samples_split = [2, 5, 10, 15, 100]\n",
    "min_samples_leaf = [1, 2, 5, 10] \n",
    "\n",
    "parameters = dict(n_estimators = n_estimators, max_depth = max_depth,  \n",
    "              min_samples_split = min_samples_split, \n",
    "             min_samples_leaf = min_samples_leaf)\n",
    "\n",
    "rfc = RandomForestClassifier()\n",
    "grid_search = GridSearchCV(rfc, parameters, cv = 2, verbose = 1, \n",
    "                      n_jobs = -1)\n",
    "grid_search.fit(x_train, y_train)"
   ]
  },
  {
   "cell_type": "code",
   "execution_count": null,
   "id": "08f2d4c2",
   "metadata": {},
   "outputs": [],
   "source": [
    "print(grid_search.best_params_)"
   ]
  },
  {
   "cell_type": "code",
   "execution_count": null,
   "id": "428ad657",
   "metadata": {},
   "outputs": [],
   "source": [
    "random_forest_best = grid_search.best_estimator_\n",
    "\n",
    "y_predict = random_forest_best.predict(x_test)\n",
    "\n",
    "false_positive_rate, true_positive_rate, thresholds = roc_curve(y_test, y_predict)\n",
    "\n",
    "rfc_auc_roc = auc(false_positive_rate, true_positive_rate)\n",
    "print(rfc_auc_roc)"
   ]
  },
  {
   "cell_type": "code",
   "execution_count": null,
   "id": "f06c110a",
   "metadata": {},
   "outputs": [],
   "source": [
    "y_predict_proba = random_forest.predict_proba(x_test)[:,1]\n",
    "grid_auc = roc_auc_score(y_test, y_predict_proba)\n",
    "print(grid_auc)"
   ]
  },
  {
   "cell_type": "code",
   "execution_count": null,
   "id": "cd02eb61",
   "metadata": {},
   "outputs": [],
   "source": [
    "print(accuracy_score(y_test, y_predict))"
   ]
  },
  {
   "cell_type": "code",
   "execution_count": null,
   "id": "74d60190",
   "metadata": {},
   "outputs": [],
   "source": [
    "print(classification_report(y_test, y_predict))"
   ]
  },
  {
   "cell_type": "code",
   "execution_count": null,
   "id": "5dd40b29",
   "metadata": {},
   "outputs": [],
   "source": [
    "#!pip install hyperopt"
   ]
  },
  {
   "cell_type": "markdown",
   "id": "3d02a436",
   "metadata": {},
   "source": [
    "# Hyperparameter Tuning with Bayesian Optimization"
   ]
  },
  {
   "cell_type": "markdown",
   "id": "5987fe41",
   "metadata": {},
   "source": [
    "### Bayesian optimization in Decision Tree Classifier"
   ]
  },
  {
   "cell_type": "code",
   "execution_count": 50,
   "id": "e5d56017",
   "metadata": {},
   "outputs": [
    {
     "name": "stdout",
     "output_type": "stream",
     "text": [
      "100%|██████████| 100/100 [07:28<00:00,  4.49s/trial, best loss: -0.7203823571412449]\n",
      "best: {'criterion': 1, 'max_depth': 18, 'max_features': 2}\n"
     ]
    }
   ],
   "source": [
    "from hyperopt import fmin, tpe, hp, STATUS_OK, Trials\n",
    "from sklearn.model_selection import cross_val_score\n",
    "\n",
    "\n",
    "\n",
    "def objective_function(params):\n",
    "    X_ = x_train[:]\n",
    "    \n",
    "    if 'scale' in params:\n",
    "        if params['scale'] == 1:\n",
    "            X_ = preprocessing.scale(X_)\n",
    "            del params['scale']\n",
    "    model = DecisionTreeClassifier(**params)\n",
    "    return(cross_val_score(model, X_, y_train).mean())\n",
    "\n",
    "#parameter search space for decision tree classifier\n",
    "space_for_dtc = {'max_depth': hp.choice('max_depth', range(1,20)),\n",
    "    'max_features': hp.choice('max_features', range(1,5)),\n",
    "    'criterion': hp.choice('criterion', [\"gini\", \"entropy\"]),\n",
    "#    'scale': hp.choice('scale', [0, 1]),\n",
    "#    'normalize': hp.choice('normalize', [0, 1])\n",
    "}\n",
    "\n",
    "def f(params):\n",
    "    global best\n",
    "    \n",
    "#    clf = DecisionTreeClassifier(*params)\n",
    "#    acc = cross_val_score(clf, x_train, y_train).mean()\n",
    "    acc = objective_function(params)\n",
    "    if acc > best:\n",
    "        best = acc\n",
    "    return({'loss': -acc, 'status': STATUS_OK})\n",
    "\n",
    "best = 0\n",
    "trials = Trials()\n",
    "best = fmin(f, space_for_dtc, algo=tpe.suggest, max_evals=100, trials=trials)\n",
    "print('best:', best)"
   ]
  },
  {
   "cell_type": "code",
   "execution_count": 51,
   "id": "c643a13a",
   "metadata": {},
   "outputs": [
    {
     "name": "stdout",
     "output_type": "stream",
     "text": [
      "{'criterion': 1, 'max_depth': 18, 'max_features': 2}\n"
     ]
    }
   ],
   "source": [
    "print(best)"
   ]
  },
  {
   "cell_type": "code",
   "execution_count": 55,
   "id": "e58d51bd",
   "metadata": {},
   "outputs": [
    {
     "data": {
      "text/plain": [
       "DecisionTreeClassifier(criterion='entropy', max_depth=18, max_features=2)"
      ]
     },
     "execution_count": 55,
     "metadata": {},
     "output_type": "execute_result"
    }
   ],
   "source": [
    "#Fitting the model using best parameters\n",
    "best_dtr = DecisionTreeClassifier(max_depth=int(best['max_depth']), \n",
    "                                  criterion='entropy', \n",
    "                                  max_features=int(best[\"max_features\"]))\n",
    "\n",
    "best_dtr.fit(x_train,y_train)"
   ]
  },
  {
   "cell_type": "code",
   "execution_count": 57,
   "id": "60b6f67f",
   "metadata": {},
   "outputs": [
    {
     "name": "stdout",
     "output_type": "stream",
     "text": [
      "accuracy-score 0.7171276991878012\n"
     ]
    }
   ],
   "source": [
    "y_predict = best_dtr.predict(x_test)\n",
    "print(\"accuracy-score\", accuracy_score(y_test, y_predict))"
   ]
  },
  {
   "cell_type": "code",
   "execution_count": 58,
   "id": "c2d1cc3c",
   "metadata": {},
   "outputs": [
    {
     "name": "stdout",
     "output_type": "stream",
     "text": [
      "Area Under the Curve 0.6360807120140166\n"
     ]
    }
   ],
   "source": [
    "false_positive_rate, true_positive_rate, thresholds = roc_curve(y_test, y_predict)\n",
    "dtr_auc_4 = auc(false_positive_rate, true_positive_rate)\n",
    "print(\"Area Under the Curve\", dtr_auc_4)"
   ]
  },
  {
   "cell_type": "code",
   "execution_count": 59,
   "id": "a202552f",
   "metadata": {},
   "outputs": [
    {
     "name": "stdout",
     "output_type": "stream",
     "text": [
      "Area Under the ROC-Curve 0.7596878228430836\n"
     ]
    }
   ],
   "source": [
    "y_prob = best_dtr.predict_proba(x_test)[:,1]\n",
    "dtr_roc_auc_score_4 = roc_auc_score(y_test, y_prob)\n",
    "print(\"Area Under the ROC-Curve\", dtr_roc_auc_score_4)"
   ]
  },
  {
   "cell_type": "code",
   "execution_count": 60,
   "id": "ff2ed2e6",
   "metadata": {},
   "outputs": [
    {
     "data": {
      "text/html": [
       "<div>\n",
       "<style scoped>\n",
       "    .dataframe tbody tr th:only-of-type {\n",
       "        vertical-align: middle;\n",
       "    }\n",
       "\n",
       "    .dataframe tbody tr th {\n",
       "        vertical-align: top;\n",
       "    }\n",
       "\n",
       "    .dataframe thead th {\n",
       "        text-align: right;\n",
       "    }\n",
       "</style>\n",
       "<table border=\"1\" class=\"dataframe\">\n",
       "  <thead>\n",
       "    <tr style=\"text-align: right;\">\n",
       "      <th></th>\n",
       "      <th>Predicted not clicked</th>\n",
       "      <th>predicted_clicked</th>\n",
       "    </tr>\n",
       "  </thead>\n",
       "  <tbody>\n",
       "    <tr>\n",
       "      <th>Actual not clicked</th>\n",
       "      <td>158984</td>\n",
       "      <td>21865</td>\n",
       "    </tr>\n",
       "    <tr>\n",
       "      <th>Actual clicked</th>\n",
       "      <td>54861</td>\n",
       "      <td>35529</td>\n",
       "    </tr>\n",
       "  </tbody>\n",
       "</table>\n",
       "</div>"
      ],
      "text/plain": [
       "                    Predicted not clicked  predicted_clicked\n",
       "Actual not clicked                 158984              21865\n",
       "Actual clicked                      54861              35529"
      ]
     },
     "execution_count": 60,
     "metadata": {},
     "output_type": "execute_result"
    }
   ],
   "source": [
    "pd.DataFrame(\n",
    "   confusion_matrix(y_test, y_predict),\n",
    "   columns = ['Predicted not clicked', \"predicted_clicked\"],\n",
    "   index = ['Actual not clicked', \"Actual clicked\"]\n",
    ")"
   ]
  },
  {
   "cell_type": "code",
   "execution_count": 61,
   "id": "08110997",
   "metadata": {},
   "outputs": [
    {
     "name": "stdout",
     "output_type": "stream",
     "text": [
      "              precision    recall  f1-score   support\n",
      "\n",
      "           0       0.74      0.88      0.81    180849\n",
      "           1       0.62      0.39      0.48     90390\n",
      "\n",
      "    accuracy                           0.72    271239\n",
      "   macro avg       0.68      0.64      0.64    271239\n",
      "weighted avg       0.70      0.72      0.70    271239\n",
      "\n"
     ]
    }
   ],
   "source": [
    "print(classification_report(y_test, y_predict))"
   ]
  },
  {
   "cell_type": "markdown",
   "id": "1490f03f",
   "metadata": {},
   "source": [
    "From the results obtained above, the best performing model based on the calculated metric scores (AUC, AUC-ROC and f1-scores) is the random forest classifier model. The hyperparameter tuning or the the gridSearch has not been performed on the random forest classifier since the model ran forever when the GridSearch is implemented. The best performing model can now be saved using pickle."
   ]
  },
  {
   "cell_type": "markdown",
   "id": "638fd3e8",
   "metadata": {},
   "source": [
    "### (Pickle) Save or Load any of the models above"
   ]
  },
  {
   "cell_type": "code",
   "execution_count": null,
   "id": "536239f0",
   "metadata": {},
   "outputs": [],
   "source": [
    "## Save the random forest classifier model\n",
    "filename = 'random_forest.sav'\n",
    "pickle.dump(rfc, open(filename, 'wb'))"
   ]
  },
  {
   "cell_type": "code",
   "execution_count": null,
   "id": "0e49e654",
   "metadata": {},
   "outputs": [],
   "source": [
    "rfc_model = pickle.load(open(filename, 'rb'))"
   ]
  },
  {
   "cell_type": "code",
   "execution_count": null,
   "id": "e8c7d53a",
   "metadata": {},
   "outputs": [],
   "source": [
    "class_mapping = {0: 'No click', 1: 'Click'}\n",
    "\n",
    "def classify(a, b, c, d, e, f, g, h, i, j, k, l, m, n, o, p):\n",
    "    arr = np.array([a, b, c, d, e, f, g, h, i, j, k, l, m, n, o, p]) # Convert to numpy array\n",
    "    arr = arr.astype(np.float64) # Change the data type to float\n",
    "    query = arr.reshape(1, -1) # Reshape the array\n",
    "    prediction = class_mapping[rfc_model.predict(query)[0]] # Retrieve from dictionary\n",
    "    return prediction # Return the prediction"
   ]
  }
 ],
 "metadata": {
  "kernelspec": {
   "display_name": "Python 3",
   "language": "python",
   "name": "python3"
  },
  "language_info": {
   "codemirror_mode": {
    "name": "ipython",
    "version": 3
   },
   "file_extension": ".py",
   "mimetype": "text/x-python",
   "name": "python",
   "nbconvert_exporter": "python",
   "pygments_lexer": "ipython3",
   "version": "3.8.8"
  }
 },
 "nbformat": 4,
 "nbformat_minor": 5
}
